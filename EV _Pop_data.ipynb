{
 "cells": [
  {
   "cell_type": "markdown",
   "id": "795ecdb1-262c-40eb-b563-5e2c5e19f7c4",
   "metadata": {},
   "source": [
    "#https://catalog.data.gov/dataset/electric-vehicle-population-data\n",
    "This dataset shows the Battery Electric Vehicles (BEVs) and Plug-in Hybrid Electric Vehicles (PHEVs) \n",
    "that are currently registered through Washington State Department of Licensing (DOL)."
   ]
  },
  {
   "cell_type": "code",
   "execution_count": null,
   "id": "01ab598a-6898-4833-98ba-607f1bcf7d5c",
   "metadata": {},
   "outputs": [],
   "source": [
    "#https://data.wa.gov/Transportation/Electric-Vehicle-Population-Data/f6w7-q2d2/about_data\n",
    "#https://data.wa.gov/Transportation/Electric-Vehicle-Population-Map-by-Postal-Code/bhmw-igtj"
   ]
  },
  {
   "cell_type": "code",
   "execution_count": null,
   "id": "8ca287fe-17f1-4287-98ce-090d5779a30c",
   "metadata": {},
   "outputs": [],
   "source": []
  },
  {
   "cell_type": "code",
   "execution_count": 166,
   "id": "4e5ca132-1763-448a-ac2f-ac10b0f9d761",
   "metadata": {},
   "outputs": [
    {
     "data": {
      "text/plain": [
       "<function matplotlib.pyplot.pie(x: 'ArrayLike', explode: 'ArrayLike | None' = None, labels: 'Sequence[str] | None' = None, colors: 'ColorType | Sequence[ColorType] | None' = None, autopct: 'str | Callable[[float], str] | None' = None, pctdistance: 'float' = 0.6, shadow: 'bool' = False, labeldistance: 'float | None' = 1.1, startangle: 'float' = 0, radius: 'float' = 1, counterclock: 'bool' = True, wedgeprops: 'dict[str, Any] | None' = None, textprops: 'dict[str, Any] | None' = None, center: 'tuple[float, float]' = (0, 0), frame: 'bool' = False, rotatelabels: 'bool' = False, *, normalize: 'bool' = True, hatch: 'str | Sequence[str] | None' = None, data=None) -> 'tuple[list[Wedge], list[Text]] | tuple[list[Wedge], list[Text], list[Text]]'>"
      ]
     },
     "execution_count": 166,
     "metadata": {},
     "output_type": "execute_result"
    }
   ],
   "source": [
    "import pandas as pd \n",
    "import matplotlib\n",
    "matplotlib.axes.Axes.pie\n",
    "matplotlib.pyplot.pie\n"
   ]
  },
  {
   "cell_type": "code",
   "execution_count": 2,
   "id": "c3a27d15-81bb-4faf-8e65-5cdfe36c5e35",
   "metadata": {},
   "outputs": [],
   "source": [
    "ev_df = pd.read_csv(\"C:/Users/nainy/Documents/nss_dda16/python/projects/EV_Capstone_project_nainy/data/Electric_Vehicle_Population_Data.csv\")"
   ]
  },
  {
   "cell_type": "code",
   "execution_count": 26,
   "id": "5440c836-4c48-4288-b385-26c994f567a0",
   "metadata": {},
   "outputs": [
    {
     "data": {
      "text/plain": [
       "(257635, 17)"
      ]
     },
     "execution_count": 26,
     "metadata": {},
     "output_type": "execute_result"
    }
   ],
   "source": [
    "ev_df.shape"
   ]
  },
  {
   "cell_type": "code",
   "execution_count": 3,
   "id": "fdd4be87-2d38-406b-9bd6-7b4264063768",
   "metadata": {
    "scrolled": true
   },
   "outputs": [
    {
     "data": {
      "text/html": [
       "<div>\n",
       "<style scoped>\n",
       "    .dataframe tbody tr th:only-of-type {\n",
       "        vertical-align: middle;\n",
       "    }\n",
       "\n",
       "    .dataframe tbody tr th {\n",
       "        vertical-align: top;\n",
       "    }\n",
       "\n",
       "    .dataframe thead th {\n",
       "        text-align: right;\n",
       "    }\n",
       "</style>\n",
       "<table border=\"1\" class=\"dataframe\">\n",
       "  <thead>\n",
       "    <tr style=\"text-align: right;\">\n",
       "      <th></th>\n",
       "      <th>VIN (1-10)</th>\n",
       "      <th>County</th>\n",
       "      <th>City</th>\n",
       "      <th>State</th>\n",
       "      <th>Postal Code</th>\n",
       "      <th>Model Year</th>\n",
       "      <th>Make</th>\n",
       "      <th>Model</th>\n",
       "      <th>Electric Vehicle Type</th>\n",
       "      <th>Clean Alternative Fuel Vehicle (CAFV) Eligibility</th>\n",
       "      <th>Electric Range</th>\n",
       "      <th>Base MSRP</th>\n",
       "      <th>Legislative District</th>\n",
       "      <th>DOL Vehicle ID</th>\n",
       "      <th>Vehicle Location</th>\n",
       "      <th>Electric Utility</th>\n",
       "      <th>2020 Census Tract</th>\n",
       "    </tr>\n",
       "  </thead>\n",
       "  <tbody>\n",
       "    <tr>\n",
       "      <th>0</th>\n",
       "      <td>5YJ3E1EB5K</td>\n",
       "      <td>Yakima</td>\n",
       "      <td>Yakima</td>\n",
       "      <td>WA</td>\n",
       "      <td>98901.0</td>\n",
       "      <td>2019</td>\n",
       "      <td>TESLA</td>\n",
       "      <td>MODEL 3</td>\n",
       "      <td>Battery Electric Vehicle (BEV)</td>\n",
       "      <td>Clean Alternative Fuel Vehicle Eligible</td>\n",
       "      <td>220.0</td>\n",
       "      <td>0.0</td>\n",
       "      <td>15.0</td>\n",
       "      <td>347724772</td>\n",
       "      <td>POINT (-120.50729 46.60464)</td>\n",
       "      <td>PACIFICORP</td>\n",
       "      <td>5.307700e+10</td>\n",
       "    </tr>\n",
       "    <tr>\n",
       "      <th>1</th>\n",
       "      <td>1C4RJXU67R</td>\n",
       "      <td>Kitsap</td>\n",
       "      <td>Port Orchard</td>\n",
       "      <td>WA</td>\n",
       "      <td>98367.0</td>\n",
       "      <td>2024</td>\n",
       "      <td>JEEP</td>\n",
       "      <td>WRANGLER</td>\n",
       "      <td>Plug-in Hybrid Electric Vehicle (PHEV)</td>\n",
       "      <td>Not eligible due to low battery range</td>\n",
       "      <td>21.0</td>\n",
       "      <td>0.0</td>\n",
       "      <td>35.0</td>\n",
       "      <td>272165288</td>\n",
       "      <td>POINT (-122.68471 47.50524)</td>\n",
       "      <td>PUGET SOUND ENERGY INC</td>\n",
       "      <td>5.303509e+10</td>\n",
       "    </tr>\n",
       "    <tr>\n",
       "      <th>2</th>\n",
       "      <td>KNDCD3LD0N</td>\n",
       "      <td>Snohomish</td>\n",
       "      <td>Lynnwood</td>\n",
       "      <td>WA</td>\n",
       "      <td>98036.0</td>\n",
       "      <td>2022</td>\n",
       "      <td>KIA</td>\n",
       "      <td>NIRO</td>\n",
       "      <td>Plug-in Hybrid Electric Vehicle (PHEV)</td>\n",
       "      <td>Not eligible due to low battery range</td>\n",
       "      <td>26.0</td>\n",
       "      <td>0.0</td>\n",
       "      <td>32.0</td>\n",
       "      <td>203182584</td>\n",
       "      <td>POINT (-122.29245 47.82557)</td>\n",
       "      <td>PUGET SOUND ENERGY INC</td>\n",
       "      <td>5.306105e+10</td>\n",
       "    </tr>\n",
       "    <tr>\n",
       "      <th>3</th>\n",
       "      <td>5UXKT0C37H</td>\n",
       "      <td>King</td>\n",
       "      <td>Auburn</td>\n",
       "      <td>WA</td>\n",
       "      <td>98001.0</td>\n",
       "      <td>2017</td>\n",
       "      <td>BMW</td>\n",
       "      <td>X5</td>\n",
       "      <td>Plug-in Hybrid Electric Vehicle (PHEV)</td>\n",
       "      <td>Not eligible due to low battery range</td>\n",
       "      <td>14.0</td>\n",
       "      <td>0.0</td>\n",
       "      <td>30.0</td>\n",
       "      <td>349010287</td>\n",
       "      <td>POINT (-122.23035 47.3074)</td>\n",
       "      <td>PUGET SOUND ENERGY INC||CITY OF TACOMA - (WA)</td>\n",
       "      <td>5.303303e+10</td>\n",
       "    </tr>\n",
       "    <tr>\n",
       "      <th>4</th>\n",
       "      <td>1N4AZ0CP1D</td>\n",
       "      <td>Skagit</td>\n",
       "      <td>Mount Vernon</td>\n",
       "      <td>WA</td>\n",
       "      <td>98273.0</td>\n",
       "      <td>2013</td>\n",
       "      <td>NISSAN</td>\n",
       "      <td>LEAF</td>\n",
       "      <td>Battery Electric Vehicle (BEV)</td>\n",
       "      <td>Clean Alternative Fuel Vehicle Eligible</td>\n",
       "      <td>75.0</td>\n",
       "      <td>0.0</td>\n",
       "      <td>40.0</td>\n",
       "      <td>131684150</td>\n",
       "      <td>POINT (-122.33891 48.41644)</td>\n",
       "      <td>PUGET SOUND ENERGY INC</td>\n",
       "      <td>5.305795e+10</td>\n",
       "    </tr>\n",
       "    <tr>\n",
       "      <th>...</th>\n",
       "      <td>...</td>\n",
       "      <td>...</td>\n",
       "      <td>...</td>\n",
       "      <td>...</td>\n",
       "      <td>...</td>\n",
       "      <td>...</td>\n",
       "      <td>...</td>\n",
       "      <td>...</td>\n",
       "      <td>...</td>\n",
       "      <td>...</td>\n",
       "      <td>...</td>\n",
       "      <td>...</td>\n",
       "      <td>...</td>\n",
       "      <td>...</td>\n",
       "      <td>...</td>\n",
       "      <td>...</td>\n",
       "      <td>...</td>\n",
       "    </tr>\n",
       "    <tr>\n",
       "      <th>257630</th>\n",
       "      <td>2C4RC1L73L</td>\n",
       "      <td>Snohomish</td>\n",
       "      <td>Mukilteo</td>\n",
       "      <td>WA</td>\n",
       "      <td>98275.0</td>\n",
       "      <td>2020</td>\n",
       "      <td>CHRYSLER</td>\n",
       "      <td>PACIFICA</td>\n",
       "      <td>Plug-in Hybrid Electric Vehicle (PHEV)</td>\n",
       "      <td>Clean Alternative Fuel Vehicle Eligible</td>\n",
       "      <td>32.0</td>\n",
       "      <td>0.0</td>\n",
       "      <td>21.0</td>\n",
       "      <td>161576068</td>\n",
       "      <td>POINT (-122.29196 47.89908)</td>\n",
       "      <td>PUGET SOUND ENERGY INC</td>\n",
       "      <td>5.306104e+10</td>\n",
       "    </tr>\n",
       "    <tr>\n",
       "      <th>257631</th>\n",
       "      <td>7SAYGDEE8N</td>\n",
       "      <td>King</td>\n",
       "      <td>Kirkland</td>\n",
       "      <td>WA</td>\n",
       "      <td>98033.0</td>\n",
       "      <td>2022</td>\n",
       "      <td>TESLA</td>\n",
       "      <td>MODEL Y</td>\n",
       "      <td>Battery Electric Vehicle (BEV)</td>\n",
       "      <td>Eligibility unknown as battery range has not b...</td>\n",
       "      <td>0.0</td>\n",
       "      <td>0.0</td>\n",
       "      <td>48.0</td>\n",
       "      <td>194978738</td>\n",
       "      <td>POINT (-122.2066 47.67887)</td>\n",
       "      <td>PUGET SOUND ENERGY INC||CITY OF TACOMA - (WA)</td>\n",
       "      <td>5.303302e+10</td>\n",
       "    </tr>\n",
       "    <tr>\n",
       "      <th>257632</th>\n",
       "      <td>WBAJB1C53K</td>\n",
       "      <td>Clark</td>\n",
       "      <td>Vancouver</td>\n",
       "      <td>WA</td>\n",
       "      <td>98683.0</td>\n",
       "      <td>2019</td>\n",
       "      <td>BMW</td>\n",
       "      <td>530E</td>\n",
       "      <td>Plug-in Hybrid Electric Vehicle (PHEV)</td>\n",
       "      <td>Not eligible due to low battery range</td>\n",
       "      <td>15.0</td>\n",
       "      <td>55700.0</td>\n",
       "      <td>18.0</td>\n",
       "      <td>278137940</td>\n",
       "      <td>POINT (-122.49212 45.60365)</td>\n",
       "      <td>BONNEVILLE POWER ADMINISTRATION||PUD NO 1 OF C...</td>\n",
       "      <td>5.301104e+10</td>\n",
       "    </tr>\n",
       "    <tr>\n",
       "      <th>257633</th>\n",
       "      <td>JTDKARFP9K</td>\n",
       "      <td>Whatcom</td>\n",
       "      <td>Bellingham</td>\n",
       "      <td>WA</td>\n",
       "      <td>98229.0</td>\n",
       "      <td>2019</td>\n",
       "      <td>TOYOTA</td>\n",
       "      <td>PRIUS PRIME (PHEV)</td>\n",
       "      <td>Plug-in Hybrid Electric Vehicle (PHEV)</td>\n",
       "      <td>Not eligible due to low battery range</td>\n",
       "      <td>25.0</td>\n",
       "      <td>0.0</td>\n",
       "      <td>40.0</td>\n",
       "      <td>177812232</td>\n",
       "      <td>POINT (-122.45486 48.7449)</td>\n",
       "      <td>PUGET SOUND ENERGY INC||PUD NO 1 OF WHATCOM CO...</td>\n",
       "      <td>5.307300e+10</td>\n",
       "    </tr>\n",
       "    <tr>\n",
       "      <th>257634</th>\n",
       "      <td>7YAKRDDC1S</td>\n",
       "      <td>King</td>\n",
       "      <td>Seattle</td>\n",
       "      <td>WA</td>\n",
       "      <td>98121.0</td>\n",
       "      <td>2025</td>\n",
       "      <td>HYUNDAI</td>\n",
       "      <td>IONIQ 5</td>\n",
       "      <td>Battery Electric Vehicle (BEV)</td>\n",
       "      <td>Eligibility unknown as battery range has not b...</td>\n",
       "      <td>0.0</td>\n",
       "      <td>0.0</td>\n",
       "      <td>43.0</td>\n",
       "      <td>280545338</td>\n",
       "      <td>POINT (-122.34468 47.61578)</td>\n",
       "      <td>CITY OF SEATTLE - (WA)|CITY OF TACOMA - (WA)</td>\n",
       "      <td>5.303301e+10</td>\n",
       "    </tr>\n",
       "  </tbody>\n",
       "</table>\n",
       "<p>257635 rows × 17 columns</p>\n",
       "</div>"
      ],
      "text/plain": [
       "        VIN (1-10)     County          City State  Postal Code  Model Year  \\\n",
       "0       5YJ3E1EB5K     Yakima        Yakima    WA      98901.0        2019   \n",
       "1       1C4RJXU67R     Kitsap  Port Orchard    WA      98367.0        2024   \n",
       "2       KNDCD3LD0N  Snohomish      Lynnwood    WA      98036.0        2022   \n",
       "3       5UXKT0C37H       King        Auburn    WA      98001.0        2017   \n",
       "4       1N4AZ0CP1D     Skagit  Mount Vernon    WA      98273.0        2013   \n",
       "...            ...        ...           ...   ...          ...         ...   \n",
       "257630  2C4RC1L73L  Snohomish      Mukilteo    WA      98275.0        2020   \n",
       "257631  7SAYGDEE8N       King      Kirkland    WA      98033.0        2022   \n",
       "257632  WBAJB1C53K      Clark     Vancouver    WA      98683.0        2019   \n",
       "257633  JTDKARFP9K    Whatcom    Bellingham    WA      98229.0        2019   \n",
       "257634  7YAKRDDC1S       King       Seattle    WA      98121.0        2025   \n",
       "\n",
       "            Make               Model                   Electric Vehicle Type  \\\n",
       "0          TESLA             MODEL 3          Battery Electric Vehicle (BEV)   \n",
       "1           JEEP            WRANGLER  Plug-in Hybrid Electric Vehicle (PHEV)   \n",
       "2            KIA                NIRO  Plug-in Hybrid Electric Vehicle (PHEV)   \n",
       "3            BMW                  X5  Plug-in Hybrid Electric Vehicle (PHEV)   \n",
       "4         NISSAN                LEAF          Battery Electric Vehicle (BEV)   \n",
       "...          ...                 ...                                     ...   \n",
       "257630  CHRYSLER            PACIFICA  Plug-in Hybrid Electric Vehicle (PHEV)   \n",
       "257631     TESLA             MODEL Y          Battery Electric Vehicle (BEV)   \n",
       "257632       BMW                530E  Plug-in Hybrid Electric Vehicle (PHEV)   \n",
       "257633    TOYOTA  PRIUS PRIME (PHEV)  Plug-in Hybrid Electric Vehicle (PHEV)   \n",
       "257634   HYUNDAI             IONIQ 5          Battery Electric Vehicle (BEV)   \n",
       "\n",
       "        Clean Alternative Fuel Vehicle (CAFV) Eligibility  Electric Range  \\\n",
       "0                 Clean Alternative Fuel Vehicle Eligible           220.0   \n",
       "1                   Not eligible due to low battery range            21.0   \n",
       "2                   Not eligible due to low battery range            26.0   \n",
       "3                   Not eligible due to low battery range            14.0   \n",
       "4                 Clean Alternative Fuel Vehicle Eligible            75.0   \n",
       "...                                                   ...             ...   \n",
       "257630            Clean Alternative Fuel Vehicle Eligible            32.0   \n",
       "257631  Eligibility unknown as battery range has not b...             0.0   \n",
       "257632              Not eligible due to low battery range            15.0   \n",
       "257633              Not eligible due to low battery range            25.0   \n",
       "257634  Eligibility unknown as battery range has not b...             0.0   \n",
       "\n",
       "        Base MSRP  Legislative District  DOL Vehicle ID  \\\n",
       "0             0.0                  15.0       347724772   \n",
       "1             0.0                  35.0       272165288   \n",
       "2             0.0                  32.0       203182584   \n",
       "3             0.0                  30.0       349010287   \n",
       "4             0.0                  40.0       131684150   \n",
       "...           ...                   ...             ...   \n",
       "257630        0.0                  21.0       161576068   \n",
       "257631        0.0                  48.0       194978738   \n",
       "257632    55700.0                  18.0       278137940   \n",
       "257633        0.0                  40.0       177812232   \n",
       "257634        0.0                  43.0       280545338   \n",
       "\n",
       "                   Vehicle Location  \\\n",
       "0       POINT (-120.50729 46.60464)   \n",
       "1       POINT (-122.68471 47.50524)   \n",
       "2       POINT (-122.29245 47.82557)   \n",
       "3        POINT (-122.23035 47.3074)   \n",
       "4       POINT (-122.33891 48.41644)   \n",
       "...                             ...   \n",
       "257630  POINT (-122.29196 47.89908)   \n",
       "257631   POINT (-122.2066 47.67887)   \n",
       "257632  POINT (-122.49212 45.60365)   \n",
       "257633   POINT (-122.45486 48.7449)   \n",
       "257634  POINT (-122.34468 47.61578)   \n",
       "\n",
       "                                         Electric Utility  2020 Census Tract  \n",
       "0                                              PACIFICORP       5.307700e+10  \n",
       "1                                  PUGET SOUND ENERGY INC       5.303509e+10  \n",
       "2                                  PUGET SOUND ENERGY INC       5.306105e+10  \n",
       "3           PUGET SOUND ENERGY INC||CITY OF TACOMA - (WA)       5.303303e+10  \n",
       "4                                  PUGET SOUND ENERGY INC       5.305795e+10  \n",
       "...                                                   ...                ...  \n",
       "257630                             PUGET SOUND ENERGY INC       5.306104e+10  \n",
       "257631      PUGET SOUND ENERGY INC||CITY OF TACOMA - (WA)       5.303302e+10  \n",
       "257632  BONNEVILLE POWER ADMINISTRATION||PUD NO 1 OF C...       5.301104e+10  \n",
       "257633  PUGET SOUND ENERGY INC||PUD NO 1 OF WHATCOM CO...       5.307300e+10  \n",
       "257634       CITY OF SEATTLE - (WA)|CITY OF TACOMA - (WA)       5.303301e+10  \n",
       "\n",
       "[257635 rows x 17 columns]"
      ]
     },
     "execution_count": 3,
     "metadata": {},
     "output_type": "execute_result"
    }
   ],
   "source": [
    "ev_df"
   ]
  },
  {
   "cell_type": "code",
   "execution_count": 4,
   "id": "caf50511-604f-4b5f-871d-daadfc0a45e6",
   "metadata": {},
   "outputs": [
    {
     "name": "stdout",
     "output_type": "stream",
     "text": [
      "<class 'pandas.core.frame.DataFrame'>\n",
      "RangeIndex: 257635 entries, 0 to 257634\n",
      "Data columns (total 17 columns):\n",
      " #   Column                                             Non-Null Count   Dtype  \n",
      "---  ------                                             --------------   -----  \n",
      " 0   VIN (1-10)                                         257635 non-null  object \n",
      " 1   County                                             257627 non-null  object \n",
      " 2   City                                               257627 non-null  object \n",
      " 3   State                                              257635 non-null  object \n",
      " 4   Postal Code                                        257627 non-null  float64\n",
      " 5   Model Year                                         257635 non-null  int64  \n",
      " 6   Make                                               257635 non-null  object \n",
      " 7   Model                                              257635 non-null  object \n",
      " 8   Electric Vehicle Type                              257635 non-null  object \n",
      " 9   Clean Alternative Fuel Vehicle (CAFV) Eligibility  257635 non-null  object \n",
      " 10  Electric Range                                     257632 non-null  float64\n",
      " 11  Base MSRP                                          257632 non-null  float64\n",
      " 12  Legislative District                               257038 non-null  float64\n",
      " 13  DOL Vehicle ID                                     257635 non-null  int64  \n",
      " 14  Vehicle Location                                   257619 non-null  object \n",
      " 15  Electric Utility                                   257627 non-null  object \n",
      " 16  2020 Census Tract                                  257627 non-null  float64\n",
      "dtypes: float64(5), int64(2), object(10)\n",
      "memory usage: 33.4+ MB\n"
     ]
    }
   ],
   "source": [
    "ev_df.info()"
   ]
  },
  {
   "cell_type": "code",
   "execution_count": 7,
   "id": "98caa4b4-b106-4b31-b949-371d725d3e92",
   "metadata": {},
   "outputs": [
    {
     "name": "stdout",
     "output_type": "stream",
     "text": [
      "   VIN (1-10)     County          City State  Postal Code  Model Year    Make  \\\n",
      "0  5YJ3E1EB5K     Yakima        Yakima    WA      98901.0        2019   TESLA   \n",
      "1  1C4RJXU67R     Kitsap  Port Orchard    WA      98367.0        2024    JEEP   \n",
      "2  KNDCD3LD0N  Snohomish      Lynnwood    WA      98036.0        2022     KIA   \n",
      "3  5UXKT0C37H       King        Auburn    WA      98001.0        2017     BMW   \n",
      "4  1N4AZ0CP1D     Skagit  Mount Vernon    WA      98273.0        2013  NISSAN   \n",
      "\n",
      "      Model                   Electric Vehicle Type  \\\n",
      "0   MODEL 3          Battery Electric Vehicle (BEV)   \n",
      "1  WRANGLER  Plug-in Hybrid Electric Vehicle (PHEV)   \n",
      "2      NIRO  Plug-in Hybrid Electric Vehicle (PHEV)   \n",
      "3        X5  Plug-in Hybrid Electric Vehicle (PHEV)   \n",
      "4      LEAF          Battery Electric Vehicle (BEV)   \n",
      "\n",
      "  Clean Alternative Fuel Vehicle (CAFV) Eligibility  Electric Range  \\\n",
      "0           Clean Alternative Fuel Vehicle Eligible           220.0   \n",
      "1             Not eligible due to low battery range            21.0   \n",
      "2             Not eligible due to low battery range            26.0   \n",
      "3             Not eligible due to low battery range            14.0   \n",
      "4           Clean Alternative Fuel Vehicle Eligible            75.0   \n",
      "\n",
      "   Base MSRP  Legislative District  DOL Vehicle ID  \\\n",
      "0        0.0                  15.0       347724772   \n",
      "1        0.0                  35.0       272165288   \n",
      "2        0.0                  32.0       203182584   \n",
      "3        0.0                  30.0       349010287   \n",
      "4        0.0                  40.0       131684150   \n",
      "\n",
      "              Vehicle Location                               Electric Utility  \\\n",
      "0  POINT (-120.50729 46.60464)                                     PACIFICORP   \n",
      "1  POINT (-122.68471 47.50524)                         PUGET SOUND ENERGY INC   \n",
      "2  POINT (-122.29245 47.82557)                         PUGET SOUND ENERGY INC   \n",
      "3   POINT (-122.23035 47.3074)  PUGET SOUND ENERGY INC||CITY OF TACOMA - (WA)   \n",
      "4  POINT (-122.33891 48.41644)                         PUGET SOUND ENERGY INC   \n",
      "\n",
      "   2020 Census Tract  \n",
      "0       5.307700e+10  \n",
      "1       5.303509e+10  \n",
      "2       5.306105e+10  \n",
      "3       5.303303e+10  \n",
      "4       5.305795e+10  \n"
     ]
    }
   ],
   "source": [
    "print(ev_df.head())"
   ]
  },
  {
   "cell_type": "code",
   "execution_count": 9,
   "id": "650358d0-6bcc-4ac8-80de-95daa2807807",
   "metadata": {},
   "outputs": [
    {
     "name": "stdout",
     "output_type": "stream",
     "text": [
      "<class 'pandas.core.frame.DataFrame'>\n",
      "RangeIndex: 257635 entries, 0 to 257634\n",
      "Data columns (total 17 columns):\n",
      " #   Column                                             Non-Null Count   Dtype  \n",
      "---  ------                                             --------------   -----  \n",
      " 0   VIN (1-10)                                         257635 non-null  object \n",
      " 1   County                                             257627 non-null  object \n",
      " 2   City                                               257627 non-null  object \n",
      " 3   State                                              257635 non-null  object \n",
      " 4   Postal Code                                        257627 non-null  float64\n",
      " 5   Model Year                                         257635 non-null  int64  \n",
      " 6   Make                                               257635 non-null  object \n",
      " 7   Model                                              257635 non-null  object \n",
      " 8   Electric Vehicle Type                              257635 non-null  object \n",
      " 9   Clean Alternative Fuel Vehicle (CAFV) Eligibility  257635 non-null  object \n",
      " 10  Electric Range                                     257632 non-null  float64\n",
      " 11  Base MSRP                                          257632 non-null  float64\n",
      " 12  Legislative District                               257038 non-null  float64\n",
      " 13  DOL Vehicle ID                                     257635 non-null  int64  \n",
      " 14  Vehicle Location                                   257619 non-null  object \n",
      " 15  Electric Utility                                   257627 non-null  object \n",
      " 16  2020 Census Tract                                  257627 non-null  float64\n",
      "dtypes: float64(5), int64(2), object(10)\n",
      "memory usage: 33.4+ MB\n",
      "None\n"
     ]
    }
   ],
   "source": [
    "print(ev_df.info())"
   ]
  },
  {
   "cell_type": "code",
   "execution_count": 12,
   "id": "29cab360-f989-4985-8c73-cdba4c02cdd3",
   "metadata": {},
   "outputs": [
    {
     "name": "stdout",
     "output_type": "stream",
     "text": [
      "         Postal Code     Model Year  Electric Range      Base MSRP  \\\n",
      "count  257627.000000  257635.000000   257632.000000  257632.000000   \n",
      "mean    98177.614217    2021.713164       43.127775     705.270541   \n",
      "std      2535.922185       3.023857       81.632805    6997.364357   \n",
      "min      1469.000000    2000.000000        0.000000       0.000000   \n",
      "25%     98052.000000    2020.000000        0.000000       0.000000   \n",
      "50%     98133.000000    2023.000000        0.000000       0.000000   \n",
      "75%     98380.000000    2024.000000       35.000000       0.000000   \n",
      "max     99577.000000    2026.000000      337.000000  845000.000000   \n",
      "\n",
      "       Legislative District  DOL Vehicle ID  2020 Census Tract  \n",
      "count         257038.000000    2.576350e+05       2.576270e+05  \n",
      "mean              28.897151    2.404009e+08       5.297530e+10  \n",
      "std               14.882168    6.602927e+07       1.597188e+09  \n",
      "min                1.000000    4.385000e+03       1.001020e+09  \n",
      "25%               17.000000    2.134322e+08       5.303301e+10  \n",
      "50%               32.000000    2.586345e+08       5.303303e+10  \n",
      "75%               42.000000    2.738272e+08       5.305307e+10  \n",
      "max               49.000000    4.792548e+08       6.601095e+10  \n"
     ]
    }
   ],
   "source": [
    "print(ev_df.describe())"
   ]
  },
  {
   "cell_type": "code",
   "execution_count": 18,
   "id": "b4a8c685-a9f9-42de-acf7-4be57a968301",
   "metadata": {},
   "outputs": [
    {
     "data": {
      "text/html": [
       "<div>\n",
       "<style scoped>\n",
       "    .dataframe tbody tr th:only-of-type {\n",
       "        vertical-align: middle;\n",
       "    }\n",
       "\n",
       "    .dataframe tbody tr th {\n",
       "        vertical-align: top;\n",
       "    }\n",
       "\n",
       "    .dataframe thead th {\n",
       "        text-align: right;\n",
       "    }\n",
       "</style>\n",
       "<table border=\"1\" class=\"dataframe\">\n",
       "  <thead>\n",
       "    <tr style=\"text-align: right;\">\n",
       "      <th></th>\n",
       "      <th>VIN (1-10)</th>\n",
       "      <th>County</th>\n",
       "      <th>City</th>\n",
       "      <th>State</th>\n",
       "      <th>Postal Code</th>\n",
       "      <th>Model Year</th>\n",
       "      <th>Make</th>\n",
       "      <th>Model</th>\n",
       "      <th>Electric Vehicle Type</th>\n",
       "      <th>Clean Alternative Fuel Vehicle (CAFV) Eligibility</th>\n",
       "      <th>Electric Range</th>\n",
       "      <th>Base MSRP</th>\n",
       "      <th>Legislative District</th>\n",
       "      <th>DOL Vehicle ID</th>\n",
       "      <th>Vehicle Location</th>\n",
       "      <th>Electric Utility</th>\n",
       "      <th>2020 Census Tract</th>\n",
       "    </tr>\n",
       "  </thead>\n",
       "  <tbody>\n",
       "    <tr>\n",
       "      <th>0</th>\n",
       "      <td>5YJ3E1EB5K</td>\n",
       "      <td>Yakima</td>\n",
       "      <td>Yakima</td>\n",
       "      <td>WA</td>\n",
       "      <td>98901.0</td>\n",
       "      <td>2019</td>\n",
       "      <td>TESLA</td>\n",
       "      <td>MODEL 3</td>\n",
       "      <td>Battery Electric Vehicle (BEV)</td>\n",
       "      <td>Clean Alternative Fuel Vehicle Eligible</td>\n",
       "      <td>220.0</td>\n",
       "      <td>0.0</td>\n",
       "      <td>15.0</td>\n",
       "      <td>347724772</td>\n",
       "      <td>POINT (-120.50729 46.60464)</td>\n",
       "      <td>PACIFICORP</td>\n",
       "      <td>5.307700e+10</td>\n",
       "    </tr>\n",
       "    <tr>\n",
       "      <th>1</th>\n",
       "      <td>1C4RJXU67R</td>\n",
       "      <td>Kitsap</td>\n",
       "      <td>Port Orchard</td>\n",
       "      <td>WA</td>\n",
       "      <td>98367.0</td>\n",
       "      <td>2024</td>\n",
       "      <td>JEEP</td>\n",
       "      <td>WRANGLER</td>\n",
       "      <td>Plug-in Hybrid Electric Vehicle (PHEV)</td>\n",
       "      <td>Not eligible due to low battery range</td>\n",
       "      <td>21.0</td>\n",
       "      <td>0.0</td>\n",
       "      <td>35.0</td>\n",
       "      <td>272165288</td>\n",
       "      <td>POINT (-122.68471 47.50524)</td>\n",
       "      <td>PUGET SOUND ENERGY INC</td>\n",
       "      <td>5.303509e+10</td>\n",
       "    </tr>\n",
       "    <tr>\n",
       "      <th>2</th>\n",
       "      <td>KNDCD3LD0N</td>\n",
       "      <td>Snohomish</td>\n",
       "      <td>Lynnwood</td>\n",
       "      <td>WA</td>\n",
       "      <td>98036.0</td>\n",
       "      <td>2022</td>\n",
       "      <td>KIA</td>\n",
       "      <td>NIRO</td>\n",
       "      <td>Plug-in Hybrid Electric Vehicle (PHEV)</td>\n",
       "      <td>Not eligible due to low battery range</td>\n",
       "      <td>26.0</td>\n",
       "      <td>0.0</td>\n",
       "      <td>32.0</td>\n",
       "      <td>203182584</td>\n",
       "      <td>POINT (-122.29245 47.82557)</td>\n",
       "      <td>PUGET SOUND ENERGY INC</td>\n",
       "      <td>5.306105e+10</td>\n",
       "    </tr>\n",
       "  </tbody>\n",
       "</table>\n",
       "</div>"
      ],
      "text/plain": [
       "   VIN (1-10)     County          City State  Postal Code  Model Year   Make  \\\n",
       "0  5YJ3E1EB5K     Yakima        Yakima    WA      98901.0        2019  TESLA   \n",
       "1  1C4RJXU67R     Kitsap  Port Orchard    WA      98367.0        2024   JEEP   \n",
       "2  KNDCD3LD0N  Snohomish      Lynnwood    WA      98036.0        2022    KIA   \n",
       "\n",
       "      Model                   Electric Vehicle Type  \\\n",
       "0   MODEL 3          Battery Electric Vehicle (BEV)   \n",
       "1  WRANGLER  Plug-in Hybrid Electric Vehicle (PHEV)   \n",
       "2      NIRO  Plug-in Hybrid Electric Vehicle (PHEV)   \n",
       "\n",
       "  Clean Alternative Fuel Vehicle (CAFV) Eligibility  Electric Range  \\\n",
       "0           Clean Alternative Fuel Vehicle Eligible           220.0   \n",
       "1             Not eligible due to low battery range            21.0   \n",
       "2             Not eligible due to low battery range            26.0   \n",
       "\n",
       "   Base MSRP  Legislative District  DOL Vehicle ID  \\\n",
       "0        0.0                  15.0       347724772   \n",
       "1        0.0                  35.0       272165288   \n",
       "2        0.0                  32.0       203182584   \n",
       "\n",
       "              Vehicle Location        Electric Utility  2020 Census Tract  \n",
       "0  POINT (-120.50729 46.60464)              PACIFICORP       5.307700e+10  \n",
       "1  POINT (-122.68471 47.50524)  PUGET SOUND ENERGY INC       5.303509e+10  \n",
       "2  POINT (-122.29245 47.82557)  PUGET SOUND ENERGY INC       5.306105e+10  "
      ]
     },
     "execution_count": 18,
     "metadata": {},
     "output_type": "execute_result"
    }
   ],
   "source": [
    "ev_df.head(3)"
   ]
  },
  {
   "cell_type": "code",
   "execution_count": 42,
   "id": "bbeef342-9b79-430e-88bd-5948d268cec0",
   "metadata": {},
   "outputs": [
    {
     "data": {
      "text/plain": [
       "Model\n",
       "MODEL Y        53560\n",
       "MODEL 3        37807\n",
       "LEAF           13971\n",
       "MODEL S         7911\n",
       "BOLT EV         7812\n",
       "               ...  \n",
       "VF 8               2\n",
       "S6                 2\n",
       "SL-CLASS           2\n",
       "RCV                1\n",
       "CONTINENTAL        1\n",
       "Name: count, Length: 179, dtype: int64"
      ]
     },
     "execution_count": 42,
     "metadata": {},
     "output_type": "execute_result"
    }
   ],
   "source": [
    "ev_df['Model'].value_counts()"
   ]
  },
  {
   "cell_type": "code",
   "execution_count": 40,
   "id": "acb631b7-45ba-4812-a7c6-ab8a770e367a",
   "metadata": {},
   "outputs": [
    {
     "data": {
      "text/plain": [
       "Make\n",
       "TESLA                     107535\n",
       "CHEVROLET                  18602\n",
       "NISSAN                     16274\n",
       "FORD                       13750\n",
       "KIA                        12586\n",
       "BMW                        10656\n",
       "TOYOTA                     10622\n",
       "HYUNDAI                     8638\n",
       "RIVIAN                      7816\n",
       "VOLVO                       6673\n",
       "VOLKSWAGEN                  6607\n",
       "JEEP                        6599\n",
       "AUDI                        5190\n",
       "CHRYSLER                    3817\n",
       "MERCEDES-BENZ               2918\n",
       "HONDA                       2526\n",
       "SUBARU                      2473\n",
       "PORSCHE                     1772\n",
       "CADILLAC                    1596\n",
       "POLESTAR                    1453\n",
       "MAZDA                       1282\n",
       "MINI                        1202\n",
       "MITSUBISHI                  1170\n",
       "LEXUS                       1165\n",
       "FIAT                         850\n",
       "DODGE                        759\n",
       "LUCID                        477\n",
       "GMC                          472\n",
       "GENESIS                      433\n",
       "LINCOLN                      417\n",
       "ACURA                        335\n",
       "SMART                        241\n",
       "JAGUAR                       209\n",
       "LAND ROVER                   185\n",
       "FISKER                       144\n",
       "ALFA ROMEO                   100\n",
       "BRIGHTDROP                    40\n",
       "LAMBORGHINI                   13\n",
       "RAM                            9\n",
       "BENTLEY                        8\n",
       "ROLLS-ROYCE                    6\n",
       "TH!NK                          5\n",
       "AZURE DYNAMICS                 4\n",
       "MULLEN AUTOMOTIVE INC.         2\n",
       "VINFAST                        2\n",
       "WHEEGO ELECTRIC CARS           2\n",
       "Name: Electric Vehicle Type, dtype: int64"
      ]
     },
     "execution_count": 40,
     "metadata": {},
     "output_type": "execute_result"
    }
   ],
   "source": [
    "ev_df.groupby('Make')['Electric Vehicle Type'].size().sort_values(ascending = False)\n"
   ]
  },
  {
   "cell_type": "code",
   "execution_count": null,
   "id": "f0e34dbf-621f-48d6-a53b-700cebd94d42",
   "metadata": {},
   "outputs": [],
   "source": [
    "plt.figure(figsize=(12,6))\n",
    "plt.plot(['Date'], df['BEV_Count'], label='BEV', marker='o')\n",
    "plt.plot(df['Date'], df['PHEV_Count'], label='PHEV', marker='s')\n",
    "plt.title(\"Washington State EV Registrations Over Time\")\n",
    "plt.xlabel(\"Date\")\n",
    "plt.ylabel(\"Count\")\n",
    "plt.legend()\n",
    "plt.grid(True)\n",
    "plt.tight_layout()\n",
    "plt.show()"
   ]
  },
  {
   "cell_type": "code",
   "execution_count": 38,
   "id": "ffb3958c-70b1-4e77-bf5a-435953bca20d",
   "metadata": {},
   "outputs": [
    {
     "data": {
      "text/plain": [
       "Electric Vehicle Type\n",
       "Battery Electric Vehicle (BEV)            205095\n",
       "Plug-in Hybrid Electric Vehicle (PHEV)     52540\n",
       "Name: Make, dtype: int64"
      ]
     },
     "execution_count": 38,
     "metadata": {},
     "output_type": "execute_result"
    }
   ],
   "source": [
    "ev_df.groupby('Electric Vehicle Type')['Make'].size().sort_values(ascending = False)"
   ]
  },
  {
   "cell_type": "code",
   "execution_count": 30,
   "id": "0a8022d4-d2f0-450c-8588-0f609ad475f4",
   "metadata": {},
   "outputs": [
    {
     "data": {
      "text/plain": [
       "State\n",
       "WA    257038\n",
       "CA       144\n",
       "VA        73\n",
       "TX        35\n",
       "MD        34\n",
       "FL        28\n",
       "CO        24\n",
       "TN        17\n",
       "OR        16\n",
       "IL        15\n",
       "AZ        15\n",
       "NY        13\n",
       "MO        13\n",
       "NC        13\n",
       "NV        12\n",
       "GA        12\n",
       "CT        11\n",
       "NJ        10\n",
       "ID        10\n",
       "KS         8\n",
       "MA         8\n",
       "MI         7\n",
       "AL         6\n",
       "DC         6\n",
       "PA         6\n",
       "RI         5\n",
       "HI         5\n",
       "OH         5\n",
       "IN         4\n",
       "SC         4\n",
       "NE         4\n",
       "NH         4\n",
       "KY         3\n",
       "UT         3\n",
       "BC         3\n",
       "WI         3\n",
       "AP         3\n",
       "MN         2\n",
       "WY         2\n",
       "OK         1\n",
       "QC         1\n",
       "NS         1\n",
       "NM         1\n",
       "MS         1\n",
       "ME         1\n",
       "LA         1\n",
       "GU         1\n",
       "DE         1\n",
       "AR         1\n",
       "AK         1\n",
       "Name: Electric Vehicle Type, dtype: int64"
      ]
     },
     "execution_count": 30,
     "metadata": {},
     "output_type": "execute_result"
    }
   ],
   "source": [
    "ev_df.groupby('State')['Electric Vehicle Type'].size().sort_values(ascending = False)"
   ]
  },
  {
   "cell_type": "markdown",
   "id": "668a20cc-7f7d-4e7a-abc4-1da4bf4f6713",
   "metadata": {},
   "source": [
    "Electric Vehicle Population County Comparison\n",
    "This chart shows the number of electric vehicles in each selected county. By default, results are limited to show activity that occurred in Washington State."
   ]
  },
  {
   "cell_type": "code",
   "execution_count": 36,
   "id": "3b91e805-5898-4c6b-a72f-3f81d0a92d2f",
   "metadata": {},
   "outputs": [
    {
     "data": {
      "text/plain": [
       "County\n",
       "King         128272\n",
       "Snohomish     31810\n",
       "Pierce        21314\n",
       "Clark         15653\n",
       "Thurston       9344\n",
       "              ...  \n",
       "Hennepin          1\n",
       "Hardin            1\n",
       "Gwinnett          1\n",
       "Guam              1\n",
       "Yuba              1\n",
       "Name: Electric Vehicle Type, Length: 226, dtype: int64"
      ]
     },
     "execution_count": 36,
     "metadata": {},
     "output_type": "execute_result"
    }
   ],
   "source": [
    "ev_df.groupby('County')['Electric Vehicle Type'].count().sort_values(ascending = False)"
   ]
  },
  {
   "cell_type": "code",
   "execution_count": 14,
   "id": "37948af0-d8e2-4c6a-92cc-ab7c71aabecb",
   "metadata": {},
   "outputs": [
    {
     "name": "stdout",
     "output_type": "stream",
     "text": [
      "<class 'pandas.core.frame.DataFrame'>\n",
      "RangeIndex: 257635 entries, 0 to 257634\n",
      "Data columns (total 17 columns):\n",
      " #   Column                                             Non-Null Count   Dtype  \n",
      "---  ------                                             --------------   -----  \n",
      " 0   VIN (1-10)                                         257635 non-null  object \n",
      " 1   County                                             257627 non-null  object \n",
      " 2   City                                               257627 non-null  object \n",
      " 3   State                                              257635 non-null  object \n",
      " 4   Postal Code                                        257627 non-null  float64\n",
      " 5   Model Year                                         257635 non-null  int64  \n",
      " 6   Make                                               257635 non-null  object \n",
      " 7   Model                                              257635 non-null  object \n",
      " 8   Electric Vehicle Type                              257635 non-null  object \n",
      " 9   Clean Alternative Fuel Vehicle (CAFV) Eligibility  257635 non-null  object \n",
      " 10  Electric Range                                     257632 non-null  float64\n",
      " 11  Base MSRP                                          257632 non-null  float64\n",
      " 12  Legislative District                               257038 non-null  float64\n",
      " 13  DOL Vehicle ID                                     257635 non-null  int64  \n",
      " 14  Vehicle Location                                   257619 non-null  object \n",
      " 15  Electric Utility                                   257627 non-null  object \n",
      " 16  2020 Census Tract                                  257627 non-null  float64\n",
      "dtypes: float64(5), int64(2), object(10)\n",
      "memory usage: 33.4+ MB\n"
     ]
    }
   ],
   "source": [
    "ev_df.info()"
   ]
  },
  {
   "cell_type": "code",
   "execution_count": 56,
   "id": "dd2a8188-744a-429c-a67b-e377ff8bdf24",
   "metadata": {},
   "outputs": [
    {
     "data": {
      "text/plain": [
       "State\n",
       "AK         1\n",
       "AL         6\n",
       "AP         3\n",
       "AR         1\n",
       "AZ        15\n",
       "BC         3\n",
       "CA       144\n",
       "CO        24\n",
       "CT        11\n",
       "DC         6\n",
       "DE         1\n",
       "FL        28\n",
       "GA        12\n",
       "GU         1\n",
       "HI         5\n",
       "ID        10\n",
       "IL        15\n",
       "IN         4\n",
       "KS         8\n",
       "KY         3\n",
       "LA         1\n",
       "MA         8\n",
       "MD        34\n",
       "ME         1\n",
       "MI         7\n",
       "MN         2\n",
       "MO        13\n",
       "MS         1\n",
       "NC        13\n",
       "NE         4\n",
       "NH         4\n",
       "NJ        10\n",
       "NM         1\n",
       "NS         1\n",
       "NV        12\n",
       "NY        13\n",
       "OH         5\n",
       "OK         1\n",
       "OR        16\n",
       "PA         6\n",
       "QC         1\n",
       "RI         5\n",
       "SC         4\n",
       "TN        17\n",
       "TX        35\n",
       "UT         3\n",
       "VA        73\n",
       "WA    257038\n",
       "WI         3\n",
       "WY         2\n",
       "Name: VIN (1-10), dtype: int64"
      ]
     },
     "execution_count": 56,
     "metadata": {},
     "output_type": "execute_result"
    }
   ],
   "source": [
    "# 1. EV count by state\n",
    "ev_count_by_state = ev_df.groupby(\"State\")[\"VIN (1-10)\"].count()\n",
    "ev_count_by_state"
   ]
  },
  {
   "cell_type": "code",
   "execution_count": 172,
   "id": "1a468a19-bee3-4722-a5d9-500d5a06adc7",
   "metadata": {},
   "outputs": [
    {
     "data": {
      "text/plain": [
       "Postal Code\n",
       "98052.0    6268\n",
       "98012.0    4913\n",
       "98033.0    4208\n",
       "98006.0    3958\n",
       "98004.0    3747\n",
       "           ... \n",
       "85331.0       1\n",
       "85383.0       1\n",
       "85613.0       1\n",
       "85648.0       1\n",
       "99577.0       1\n",
       "Name: VIN (1-10), Length: 1030, dtype: int64"
      ]
     },
     "execution_count": 172,
     "metadata": {},
     "output_type": "execute_result"
    }
   ],
   "source": [
    " ev_df.groupby(\"Postal Code\")[\"VIN (1-10)\"].count().sort_values(ascending = False)"
   ]
  },
  {
   "cell_type": "code",
   "execution_count": null,
   "id": "b11eacd2-dea3-4951-9e84-3dbe84d05c27",
   "metadata": {},
   "outputs": [],
   "source": [
    "# 2. % Share of BEV vs PHEV"
   ]
  },
  {
   "cell_type": "code",
   "execution_count": 86,
   "id": "2efb2448-f38c-4886-a637-5d325c316b5b",
   "metadata": {},
   "outputs": [
    {
     "data": {
      "text/plain": [
       "Electric Vehicle Type\n",
       "Battery Electric Vehicle (BEV)            205095\n",
       "Plug-in Hybrid Electric Vehicle (PHEV)     52540\n",
       "Name: count, dtype: int64"
      ]
     },
     "execution_count": 86,
     "metadata": {},
     "output_type": "execute_result"
    }
   ],
   "source": [
    "ev_df['Electric Vehicle Type'].value_counts()"
   ]
  },
  {
   "cell_type": "code",
   "execution_count": 76,
   "id": "66e0597e-f20d-459a-ab1c-b3e61d215934",
   "metadata": {},
   "outputs": [
    {
     "data": {
      "text/plain": [
       "257635"
      ]
     },
     "execution_count": 76,
     "metadata": {},
     "output_type": "execute_result"
    }
   ],
   "source": [
    "total_vechicles= ev_df['Electric Vehicle Type'].value_counts().sum()\n",
    "total_vechicles"
   ]
  },
  {
   "cell_type": "code",
   "execution_count": 102,
   "id": "2968602f-7403-4f43-b107-90936bf4cb63",
   "metadata": {},
   "outputs": [
    {
     "data": {
      "text/plain": [
       "205095"
      ]
     },
     "execution_count": 102,
     "metadata": {},
     "output_type": "execute_result"
    }
   ],
   "source": [
    "len(ev_df.loc[ ev_df['Electric Vehicle Type']=='Battery Electric Vehicle (BEV)'])"
   ]
  },
  {
   "cell_type": "code",
   "execution_count": 110,
   "id": "0b2d3398-741b-4fc1-81c5-f17751591849",
   "metadata": {},
   "outputs": [
    {
     "data": {
      "text/plain": [
       "79.60680808120014"
      ]
     },
     "execution_count": 110,
     "metadata": {},
     "output_type": "execute_result"
    }
   ],
   "source": [
    "BEV_PCT= (len(ev_df.loc[ ev_df['Electric Vehicle Type']=='Battery Electric Vehicle (BEV)'])/total_vechicles)*100\n",
    "BEV_PCT"
   ]
  },
  {
   "cell_type": "code",
   "execution_count": 114,
   "id": "2c804e07-5c6a-4858-84a6-3484ae8026b7",
   "metadata": {},
   "outputs": [
    {
     "data": {
      "text/plain": [
       "20.393191918799854"
      ]
     },
     "execution_count": 114,
     "metadata": {},
     "output_type": "execute_result"
    }
   ],
   "source": [
    "PHEV_PCT= (len(ev_df.loc[ ev_df['Electric Vehicle Type']=='Plug-in Hybrid Electric Vehicle (PHEV)'])/total_vechicles)*100\n",
    "PHEV_PCT"
   ]
  },
  {
   "cell_type": "code",
   "execution_count": null,
   "id": "7c35a88a-8acd-42f7-8cdd-9dbb50023e97",
   "metadata": {},
   "outputs": [],
   "source": [
    "ev_df[\"house_electricity\"].plot(kind=\"pie\")"
   ]
  },
  {
   "cell_type": "code",
   "execution_count": 148,
   "id": "9b036877-e36c-4a19-94d8-7bdfe842bf78",
   "metadata": {},
   "outputs": [],
   "source": [
    "# Import libraries\n",
    "from matplotlib import pyplot as plt\n",
    "import numpy as np\n",
    "\n",
    "\n",
    "# Creating dataset\n",
    "pct =[' BEV_PCT ','PHEV_PCT']\n",
    "\n",
    "data=[79.60680808120014, 20.393191918799854]\n",
    " #= BEV_PCT+PHEV_PCT"
   ]
  },
  {
   "cell_type": "code",
   "execution_count": 164,
   "id": "5600fb94-a44b-45d6-93c8-c85b644779b4",
   "metadata": {},
   "outputs": [
    {
     "ename": "TypeError",
     "evalue": "pie() missing 1 required positional argument: 'x'",
     "output_type": "error",
     "traceback": [
      "\u001b[1;31m---------------------------------------------------------------------------\u001b[0m",
      "\u001b[1;31mTypeError\u001b[0m                                 Traceback (most recent call last)",
      "Cell \u001b[1;32mIn[164], line 11\u001b[0m\n\u001b[0;32m      7\u001b[0m plt\u001b[38;5;241m.\u001b[39mtitle(\u001b[38;5;124m'\u001b[39m\u001b[38;5;124mDistribution of Percentage Share of BEV vs PHEV\u001b[39m\u001b[38;5;124m'\u001b[39m)\n\u001b[0;32m      9\u001b[0m \u001b[38;5;66;03m# Ensure the pie chart is drawn as a circle\u001b[39;00m\n\u001b[0;32m     10\u001b[0m \u001b[38;5;66;03m#plt.axis('equal')\u001b[39;00m\n\u001b[1;32m---> 11\u001b[0m plt\u001b[38;5;241m.\u001b[39mpie(autopct\u001b[38;5;241m=\u001b[39m\u001b[38;5;124m'\u001b[39m\u001b[38;5;132;01m%1.1f\u001b[39;00m\u001b[38;5;132;01m%%\u001b[39;00m\u001b[38;5;124m'\u001b[39m, startangle\u001b[38;5;241m=\u001b[39m\u001b[38;5;241m90\u001b[39m)\n",
      "\u001b[1;31mTypeError\u001b[0m: pie() missing 1 required positional argument: 'x'"
     ]
    },
    {
     "data": {
      "image/png": "[encoded data removed]",
      "text/plain": [
       "<Figure size 1000x700 with 1 Axes>"
      ]
     },
     "metadata": {},
     "output_type": "display_data"
    }
   ],
   "source": [
    "fig = plt.figure(figsize=(10, 7))\n",
    "plt.pie(data, labels = pct)\n",
    "\n",
    "# Wedge properties\n",
    "wp = {'linewidth': 1, 'edgecolor': \"green\"}\n",
    "# Add a title to the chart\n",
    "plt.title('Distribution of Percentage Share of BEV vs PHEV')\n",
    "\n",
    "# Ensure the pie chart is drawn as a circle\n",
    "#plt.axis('equal')\n",
    "plt.pie(autopct='%1.1f%%', startangle=90) # Format string for displaying percentages\n",
    "        \n"
   ]
  },
  {
   "cell_type": "code",
   "execution_count": null,
   "id": "2fde5358-aea9-4e8f-a962-79b77a4c8cf3",
   "metadata": {},
   "outputs": [],
   "source": []
  },
  {
   "cell_type": "code",
   "execution_count": null,
   "id": "5fe7ed35-f21d-4c6a-8070-c22d36a09ced",
   "metadata": {},
   "outputs": [],
   "source": []
  },
  {
   "cell_type": "code",
   "execution_count": null,
   "id": "b4028df9-1a43-4dea-ac6c-687ba6c6490f",
   "metadata": {},
   "outputs": [],
   "source": []
  },
  {
   "cell_type": "code",
   "execution_count": null,
   "id": "7ca646fe-3ab8-4dd7-bcbe-5ba6a1484bb8",
   "metadata": {},
   "outputs": [],
   "source": []
  },
  {
   "cell_type": "code",
   "execution_count": null,
   "id": "adf56d15-e2ee-4960-ba7a-d2b693153ea3",
   "metadata": {},
   "outputs": [],
   "source": []
  },
  {
   "cell_type": "code",
   "execution_count": null,
   "id": "f10c1ad8-bc2b-4d0a-b5ce-607f46194dd3",
   "metadata": {},
   "outputs": [],
   "source": []
  },
  {
   "cell_type": "code",
   "execution_count": 122,
   "id": "f83e0431-b1b1-4094-9afa-46903fb176f7",
   "metadata": {},
   "outputs": [
    {
     "data": {
      "text/plain": [
       "Make\n",
       "JAGUAR                    184.736842\n",
       "WHEEGO ELECTRIC CARS      100.000000\n",
       "TH!NK                     100.000000\n",
       "CHEVROLET                  83.378938\n",
       "FIAT                       76.104706\n",
       "NISSAN                     65.836733\n",
       "SMART                      61.692946\n",
       "TESLA                      56.523039\n",
       "AZURE DYNAMICS             56.000000\n",
       "PORSCHE                    50.924944\n",
       "LAND ROVER                 48.286486\n",
       "AUDI                       37.704046\n",
       "POLESTAR                   33.354439\n",
       "ALFA ROMEO                 33.000000\n",
       "CHRYSLER                   32.165837\n",
       "MITSUBISHI                 32.024786\n",
       "BENTLEY                    31.250000\n",
       "KIA                        30.717623\n",
       "DODGE                      29.428195\n",
       "BMW                        28.546077\n",
       "TOYOTA                     27.802203\n",
       "MAZDA                      25.533541\n",
       "LINCOLN                    24.616307\n",
       "JEEP                       21.957418\n",
       "LEXUS                      21.938197\n",
       "VOLVO                      17.794695\n",
       "VOLKSWAGEN                 17.326169\n",
       "HONDA                      16.201504\n",
       "LAMBORGHINI                15.300000\n",
       "MERCEDES-BENZ              14.510281\n",
       "MINI                       14.147255\n",
       "HYUNDAI                    13.660917\n",
       "FORD                        7.666036\n",
       "FISKER                      2.291667\n",
       "CADILLAC                    2.102757\n",
       "SUBARU                      0.646179\n",
       "LUCID                       0.000000\n",
       "VINFAST                     0.000000\n",
       "BRIGHTDROP                  0.000000\n",
       "RIVIAN                      0.000000\n",
       "ROLLS-ROYCE                 0.000000\n",
       "RAM                         0.000000\n",
       "GENESIS                     0.000000\n",
       "GMC                         0.000000\n",
       "MULLEN AUTOMOTIVE INC.      0.000000\n",
       "ACURA                       0.000000\n",
       "Name: Electric Range, dtype: float64"
      ]
     },
     "execution_count": 122,
     "metadata": {},
     "output_type": "execute_result"
    }
   ],
   "source": [
    "# 3. Average electric range by make\n",
    "avg_range_by_make = ev_df.groupby(\"Make\")[\"Electric Range\"].mean()\n",
    "avg_range_by_make.sort_values(ascending = False)"
   ]
  },
  {
   "cell_type": "code",
   "execution_count": 126,
   "id": "8ae526f4-1df7-40f4-9999-650808479df3",
   "metadata": {},
   "outputs": [
    {
     "data": {
      "text/plain": [
       "705.270540926593"
      ]
     },
     "execution_count": 126,
     "metadata": {},
     "output_type": "execute_result"
    }
   ],
   "source": [
    "# 4. Average Base MSRP\n",
    "avg_msrp = ev_df[\"Base MSRP\"].mean()\n",
    "avg_msrp"
   ]
  },
  {
   "cell_type": "code",
   "execution_count": 136,
   "id": "8c9689de-0140-44ce-82c4-115940277e94",
   "metadata": {},
   "outputs": [
    {
     "data": {
      "text/plain": [
       "Model Year\n",
       "2023    60042\n",
       "2024    50817\n",
       "2022    29519\n",
       "2025    26389\n",
       "2021    20858\n",
       "2018    14548\n",
       "2020    12348\n",
       "2019    11058\n",
       "2017     8775\n",
       "2016     5269\n",
       "2015     4596\n",
       "2013     4091\n",
       "2026     3867\n",
       "2014     3323\n",
       "2012     1446\n",
       "2011      637\n",
       "2010       22\n",
       "2008       20\n",
       "2000        8\n",
       "2002        1\n",
       "2003        1\n",
       "Name: VIN (1-10), dtype: int64"
      ]
     },
     "execution_count": 136,
     "metadata": {},
     "output_type": "execute_result"
    }
   ],
   "source": [
    "# 5. EV distribution by model year\n",
    "ev_by_year = ev_df.groupby(\"Model Year\")[\"VIN (1-10)\"].count()\n",
    "ev_by_year.sort_values(ascending = False)"
   ]
  },
  {
   "cell_type": "code",
   "execution_count": null,
   "id": "f296061e-9216-4962-ae4b-9a450cd778f1",
   "metadata": {},
   "outputs": [],
   "source": []
  }
 ],
 "metadata": {
  "kernelspec": {
   "display_name": "Python [conda env:base] *",
   "language": "python",
   "name": "conda-base-py"
  },
  "language_info": {
   "codemirror_mode": {
    "name": "ipython",
    "version": 3
   },
   "file_extension": ".py",
   "mimetype": "text/x-python",
   "name": "python",
   "nbconvert_exporter": "python",
   "pygments_lexer": "ipython3",
   "version": "3.12.7"
  }
 },
 "nbformat": 4,
 "nbformat_minor": 5
}
