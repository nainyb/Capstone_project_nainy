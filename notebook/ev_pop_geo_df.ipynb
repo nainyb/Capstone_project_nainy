{
 "cells": [
  {
   "cell_type": "code",
   "execution_count": 2,
   "id": "68ff0f20-eea8-49b5-87a1-7833d45cda2a",
   "metadata": {},
   "outputs": [],
   "source": [
    "import pandas as pd\n",
    "import geopandas as gpd\n",
    "import matplotlib.pyplot as plt\n",
    "%matplotlib inline"
   ]
  },
  {
   "cell_type": "code",
   "execution_count": 3,
   "id": "969e4aec-6ad0-4a20-87a5-457dfee47a82",
   "metadata": {},
   "outputs": [],
   "source": [
    "ev_pop_df = gpd.read_file('C:/Users/nainy/Documents/nss_dda16/python/projects/EV_Capstone_project_nainy/data/Electric_Vehicle_Population_Data.csv')\n"
   ]
  },
  {
   "cell_type": "code",
   "execution_count": 4,
   "id": "e880fc66-a880-47a9-b9d2-805286eb6a01",
   "metadata": {},
   "outputs": [
    {
     "data": {
      "text/plain": [
       "(257635, 18)"
      ]
     },
     "execution_count": 4,
     "metadata": {},
     "output_type": "execute_result"
    }
   ],
   "source": [
    "ev_pop_df.shape"
   ]
  },
  {
   "cell_type": "code",
   "execution_count": 5,
   "id": "6b3e1324-2cec-492d-a1d5-1aacbb838cfa",
   "metadata": {},
   "outputs": [
    {
     "data": {
      "text/html": [
       "<div>\n",
       "<style scoped>\n",
       "    .dataframe tbody tr th:only-of-type {\n",
       "        vertical-align: middle;\n",
       "    }\n",
       "\n",
       "    .dataframe tbody tr th {\n",
       "        vertical-align: top;\n",
       "    }\n",
       "\n",
       "    .dataframe thead th {\n",
       "        text-align: right;\n",
       "    }\n",
       "</style>\n",
       "<table border=\"1\" class=\"dataframe\">\n",
       "  <thead>\n",
       "    <tr style=\"text-align: right;\">\n",
       "      <th></th>\n",
       "      <th>VIN (1-10)</th>\n",
       "      <th>County</th>\n",
       "      <th>City</th>\n",
       "      <th>State</th>\n",
       "      <th>Postal Code</th>\n",
       "      <th>Model Year</th>\n",
       "      <th>Make</th>\n",
       "      <th>Model</th>\n",
       "      <th>Electric Vehicle Type</th>\n",
       "      <th>Clean Alternative Fuel Vehicle (CAFV) Eligibility</th>\n",
       "      <th>Electric Range</th>\n",
       "      <th>Base MSRP</th>\n",
       "      <th>Legislative District</th>\n",
       "      <th>DOL Vehicle ID</th>\n",
       "      <th>Vehicle Location</th>\n",
       "      <th>Electric Utility</th>\n",
       "      <th>2020 Census Tract</th>\n",
       "      <th>geometry</th>\n",
       "    </tr>\n",
       "  </thead>\n",
       "  <tbody>\n",
       "    <tr>\n",
       "      <th>0</th>\n",
       "      <td>5YJ3E1EB5K</td>\n",
       "      <td>Yakima</td>\n",
       "      <td>Yakima</td>\n",
       "      <td>WA</td>\n",
       "      <td>98901</td>\n",
       "      <td>2019</td>\n",
       "      <td>TESLA</td>\n",
       "      <td>MODEL 3</td>\n",
       "      <td>Battery Electric Vehicle (BEV)</td>\n",
       "      <td>Clean Alternative Fuel Vehicle Eligible</td>\n",
       "      <td>220</td>\n",
       "      <td>0</td>\n",
       "      <td>15</td>\n",
       "      <td>347724772</td>\n",
       "      <td>POINT (-120.50729 46.60464)</td>\n",
       "      <td>PACIFICORP</td>\n",
       "      <td>53077001502</td>\n",
       "      <td>None</td>\n",
       "    </tr>\n",
       "    <tr>\n",
       "      <th>1</th>\n",
       "      <td>1C4RJXU67R</td>\n",
       "      <td>Kitsap</td>\n",
       "      <td>Port Orchard</td>\n",
       "      <td>WA</td>\n",
       "      <td>98367</td>\n",
       "      <td>2024</td>\n",
       "      <td>JEEP</td>\n",
       "      <td>WRANGLER</td>\n",
       "      <td>Plug-in Hybrid Electric Vehicle (PHEV)</td>\n",
       "      <td>Not eligible due to low battery range</td>\n",
       "      <td>21</td>\n",
       "      <td>0</td>\n",
       "      <td>35</td>\n",
       "      <td>272165288</td>\n",
       "      <td>POINT (-122.68471 47.50524)</td>\n",
       "      <td>PUGET SOUND ENERGY INC</td>\n",
       "      <td>53035092901</td>\n",
       "      <td>None</td>\n",
       "    </tr>\n",
       "    <tr>\n",
       "      <th>2</th>\n",
       "      <td>KNDCD3LD0N</td>\n",
       "      <td>Snohomish</td>\n",
       "      <td>Lynnwood</td>\n",
       "      <td>WA</td>\n",
       "      <td>98036</td>\n",
       "      <td>2022</td>\n",
       "      <td>KIA</td>\n",
       "      <td>NIRO</td>\n",
       "      <td>Plug-in Hybrid Electric Vehicle (PHEV)</td>\n",
       "      <td>Not eligible due to low battery range</td>\n",
       "      <td>26</td>\n",
       "      <td>0</td>\n",
       "      <td>32</td>\n",
       "      <td>203182584</td>\n",
       "      <td>POINT (-122.29245 47.82557)</td>\n",
       "      <td>PUGET SOUND ENERGY INC</td>\n",
       "      <td>53061051402</td>\n",
       "      <td>None</td>\n",
       "    </tr>\n",
       "    <tr>\n",
       "      <th>3</th>\n",
       "      <td>5UXKT0C37H</td>\n",
       "      <td>King</td>\n",
       "      <td>Auburn</td>\n",
       "      <td>WA</td>\n",
       "      <td>98001</td>\n",
       "      <td>2017</td>\n",
       "      <td>BMW</td>\n",
       "      <td>X5</td>\n",
       "      <td>Plug-in Hybrid Electric Vehicle (PHEV)</td>\n",
       "      <td>Not eligible due to low battery range</td>\n",
       "      <td>14</td>\n",
       "      <td>0</td>\n",
       "      <td>30</td>\n",
       "      <td>349010287</td>\n",
       "      <td>POINT (-122.23035 47.3074)</td>\n",
       "      <td>PUGET SOUND ENERGY INC||CITY OF TACOMA - (WA)</td>\n",
       "      <td>53033029806</td>\n",
       "      <td>None</td>\n",
       "    </tr>\n",
       "    <tr>\n",
       "      <th>4</th>\n",
       "      <td>1N4AZ0CP1D</td>\n",
       "      <td>Skagit</td>\n",
       "      <td>Mount Vernon</td>\n",
       "      <td>WA</td>\n",
       "      <td>98273</td>\n",
       "      <td>2013</td>\n",
       "      <td>NISSAN</td>\n",
       "      <td>LEAF</td>\n",
       "      <td>Battery Electric Vehicle (BEV)</td>\n",
       "      <td>Clean Alternative Fuel Vehicle Eligible</td>\n",
       "      <td>75</td>\n",
       "      <td>0</td>\n",
       "      <td>40</td>\n",
       "      <td>131684150</td>\n",
       "      <td>POINT (-122.33891 48.41644)</td>\n",
       "      <td>PUGET SOUND ENERGY INC</td>\n",
       "      <td>53057952304</td>\n",
       "      <td>None</td>\n",
       "    </tr>\n",
       "  </tbody>\n",
       "</table>\n",
       "</div>"
      ],
      "text/plain": [
       "   VIN (1-10)     County          City State Postal Code Model Year    Make  \\\n",
       "0  5YJ3E1EB5K     Yakima        Yakima    WA       98901       2019   TESLA   \n",
       "1  1C4RJXU67R     Kitsap  Port Orchard    WA       98367       2024    JEEP   \n",
       "2  KNDCD3LD0N  Snohomish      Lynnwood    WA       98036       2022     KIA   \n",
       "3  5UXKT0C37H       King        Auburn    WA       98001       2017     BMW   \n",
       "4  1N4AZ0CP1D     Skagit  Mount Vernon    WA       98273       2013  NISSAN   \n",
       "\n",
       "      Model                   Electric Vehicle Type  \\\n",
       "0   MODEL 3          Battery Electric Vehicle (BEV)   \n",
       "1  WRANGLER  Plug-in Hybrid Electric Vehicle (PHEV)   \n",
       "2      NIRO  Plug-in Hybrid Electric Vehicle (PHEV)   \n",
       "3        X5  Plug-in Hybrid Electric Vehicle (PHEV)   \n",
       "4      LEAF          Battery Electric Vehicle (BEV)   \n",
       "\n",
       "  Clean Alternative Fuel Vehicle (CAFV) Eligibility Electric Range Base MSRP  \\\n",
       "0           Clean Alternative Fuel Vehicle Eligible            220         0   \n",
       "1             Not eligible due to low battery range             21         0   \n",
       "2             Not eligible due to low battery range             26         0   \n",
       "3             Not eligible due to low battery range             14         0   \n",
       "4           Clean Alternative Fuel Vehicle Eligible             75         0   \n",
       "\n",
       "  Legislative District DOL Vehicle ID             Vehicle Location  \\\n",
       "0                   15      347724772  POINT (-120.50729 46.60464)   \n",
       "1                   35      272165288  POINT (-122.68471 47.50524)   \n",
       "2                   32      203182584  POINT (-122.29245 47.82557)   \n",
       "3                   30      349010287   POINT (-122.23035 47.3074)   \n",
       "4                   40      131684150  POINT (-122.33891 48.41644)   \n",
       "\n",
       "                                Electric Utility 2020 Census Tract geometry  \n",
       "0                                     PACIFICORP       53077001502     None  \n",
       "1                         PUGET SOUND ENERGY INC       53035092901     None  \n",
       "2                         PUGET SOUND ENERGY INC       53061051402     None  \n",
       "3  PUGET SOUND ENERGY INC||CITY OF TACOMA - (WA)       53033029806     None  \n",
       "4                         PUGET SOUND ENERGY INC       53057952304     None  "
      ]
     },
     "execution_count": 5,
     "metadata": {},
     "output_type": "execute_result"
    }
   ],
   "source": [
    "\n",
    "ev_pop_df.head( )"
   ]
  },
  {
   "cell_type": "code",
   "execution_count": 6,
   "id": "3d412194-8549-46d5-ad66-2ef8b3e643f0",
   "metadata": {},
   "outputs": [
    {
     "data": {
      "text/plain": [
       "VIN (1-10)                                                0\n",
       "County                                                    0\n",
       "City                                                      0\n",
       "State                                                     0\n",
       "Postal Code                                               0\n",
       "Model Year                                                0\n",
       "Make                                                      0\n",
       "Model                                                     0\n",
       "Electric Vehicle Type                                     0\n",
       "Clean Alternative Fuel Vehicle (CAFV) Eligibility         0\n",
       "Electric Range                                            0\n",
       "Base MSRP                                                 0\n",
       "Legislative District                                      0\n",
       "DOL Vehicle ID                                            0\n",
       "Vehicle Location                                          0\n",
       "Electric Utility                                          0\n",
       "2020 Census Tract                                         0\n",
       "geometry                                             257635\n",
       "dtype: int64"
      ]
     },
     "execution_count": 6,
     "metadata": {},
     "output_type": "execute_result"
    }
   ],
   "source": [
    "ev_pop_df.isna().sum()"
   ]
  },
  {
   "cell_type": "code",
   "execution_count": 7,
   "id": "f01e9435-b9e3-4978-aa4d-debfb44495b8",
   "metadata": {},
   "outputs": [
    {
     "data": {
      "text/plain": [
       "0"
      ]
     },
     "execution_count": 7,
     "metadata": {},
     "output_type": "execute_result"
    }
   ],
   "source": [
    "ev_pop_df[\"Vehicle Location\"].isna().sum()"
   ]
  },
  {
   "cell_type": "code",
   "execution_count": null,
   "id": "ecb4d42b-c39a-4323-a6c5-4403f78d94be",
   "metadata": {},
   "outputs": [],
   "source": []
  },
  {
   "cell_type": "code",
   "execution_count": 9,
   "id": "d088ec97-3de2-402e-828c-7be6d2823d63",
   "metadata": {},
   "outputs": [],
   "source": [
    "from shapely import wkt\n",
    "\n",
    "def safe_wkt(val):\n",
    "    try:\n",
    "        if pd.isna(val) or val.strip() == \"\":\n",
    "            return None\n",
    "        return wkt.loads(val)\n",
    "    except Exception:\n",
    "        return None\n",
    "\n",
    "# Apply safe parser\n",
    "ev_pop_df[\"geometry\"] = ev_pop_df[\"Vehicle Location\"].apply(safe_wkt)\n",
    "\n",
    "# Drop rows where geometry is None\n",
    "gdf = gpd.GeoDataFrame(ev_pop_df, geometry=\"geometry\", crs=\"EPSG:4326\").dropna(subset=[\"geometry\"])\n"
   ]
  },
  {
   "cell_type": "code",
   "execution_count": 10,
   "id": "8398cc6a-1e5a-4369-8f80-383ffeed6e14",
   "metadata": {},
   "outputs": [
    {
     "data": {
      "text/plain": [
       "(257619, 18)"
      ]
     },
     "execution_count": 10,
     "metadata": {},
     "output_type": "execute_result"
    }
   ],
   "source": [
    "gdf.shape"
   ]
  },
  {
   "cell_type": "code",
   "execution_count": 12,
   "id": "695f48cb-745c-410b-b406-185dca107936",
   "metadata": {},
   "outputs": [
    {
     "data": {
      "text/plain": [
       "<Geographic 2D CRS: EPSG:4326>\n",
       "Name: WGS 84\n",
       "Axis Info [ellipsoidal]:\n",
       "- Lat[north]: Geodetic latitude (degree)\n",
       "- Lon[east]: Geodetic longitude (degree)\n",
       "Area of Use:\n",
       "- name: World.\n",
       "- bounds: (-180.0, -90.0, 180.0, 90.0)\n",
       "Datum: World Geodetic System 1984 ensemble\n",
       "- Ellipsoid: WGS 84\n",
       "- Prime Meridian: Greenwich"
      ]
     },
     "execution_count": 12,
     "metadata": {},
     "output_type": "execute_result"
    }
   ],
   "source": [
    "gdf.crs"
   ]
  },
  {
   "cell_type": "code",
   "execution_count": null,
   "id": "f21a7690-9603-41a2-aa78-7adde6ff8bd0",
   "metadata": {},
   "outputs": [],
   "source": [
    "#ev_pop_df.crs ="
   ]
  },
  {
   "cell_type": "code",
   "execution_count": 11,
   "id": "0835527b-8c72-41c6-8d58-b46105b7ff12",
   "metadata": {},
   "outputs": [
    {
     "data": {
      "text/html": [
       "<div>\n",
       "<style scoped>\n",
       "    .dataframe tbody tr th:only-of-type {\n",
       "        vertical-align: middle;\n",
       "    }\n",
       "\n",
       "    .dataframe tbody tr th {\n",
       "        vertical-align: top;\n",
       "    }\n",
       "\n",
       "    .dataframe thead th {\n",
       "        text-align: right;\n",
       "    }\n",
       "</style>\n",
       "<table border=\"1\" class=\"dataframe\">\n",
       "  <thead>\n",
       "    <tr style=\"text-align: right;\">\n",
       "      <th></th>\n",
       "      <th>VIN (1-10)</th>\n",
       "      <th>County</th>\n",
       "      <th>City</th>\n",
       "      <th>State</th>\n",
       "      <th>Postal Code</th>\n",
       "      <th>Model Year</th>\n",
       "      <th>Make</th>\n",
       "      <th>Model</th>\n",
       "      <th>Electric Vehicle Type</th>\n",
       "      <th>Clean Alternative Fuel Vehicle (CAFV) Eligibility</th>\n",
       "      <th>Electric Range</th>\n",
       "      <th>Base MSRP</th>\n",
       "      <th>Legislative District</th>\n",
       "      <th>DOL Vehicle ID</th>\n",
       "      <th>Vehicle Location</th>\n",
       "      <th>Electric Utility</th>\n",
       "      <th>2020 Census Tract</th>\n",
       "      <th>geometry</th>\n",
       "    </tr>\n",
       "  </thead>\n",
       "  <tbody>\n",
       "    <tr>\n",
       "      <th>0</th>\n",
       "      <td>5YJ3E1EB5K</td>\n",
       "      <td>Yakima</td>\n",
       "      <td>Yakima</td>\n",
       "      <td>WA</td>\n",
       "      <td>98901</td>\n",
       "      <td>2019</td>\n",
       "      <td>TESLA</td>\n",
       "      <td>MODEL 3</td>\n",
       "      <td>Battery Electric Vehicle (BEV)</td>\n",
       "      <td>Clean Alternative Fuel Vehicle Eligible</td>\n",
       "      <td>220</td>\n",
       "      <td>0</td>\n",
       "      <td>15</td>\n",
       "      <td>347724772</td>\n",
       "      <td>POINT (-120.50729 46.60464)</td>\n",
       "      <td>PACIFICORP</td>\n",
       "      <td>53077001502</td>\n",
       "      <td>POINT (-120.50729 46.60464)</td>\n",
       "    </tr>\n",
       "    <tr>\n",
       "      <th>1</th>\n",
       "      <td>1C4RJXU67R</td>\n",
       "      <td>Kitsap</td>\n",
       "      <td>Port Orchard</td>\n",
       "      <td>WA</td>\n",
       "      <td>98367</td>\n",
       "      <td>2024</td>\n",
       "      <td>JEEP</td>\n",
       "      <td>WRANGLER</td>\n",
       "      <td>Plug-in Hybrid Electric Vehicle (PHEV)</td>\n",
       "      <td>Not eligible due to low battery range</td>\n",
       "      <td>21</td>\n",
       "      <td>0</td>\n",
       "      <td>35</td>\n",
       "      <td>272165288</td>\n",
       "      <td>POINT (-122.68471 47.50524)</td>\n",
       "      <td>PUGET SOUND ENERGY INC</td>\n",
       "      <td>53035092901</td>\n",
       "      <td>POINT (-122.68471 47.50524)</td>\n",
       "    </tr>\n",
       "    <tr>\n",
       "      <th>2</th>\n",
       "      <td>KNDCD3LD0N</td>\n",
       "      <td>Snohomish</td>\n",
       "      <td>Lynnwood</td>\n",
       "      <td>WA</td>\n",
       "      <td>98036</td>\n",
       "      <td>2022</td>\n",
       "      <td>KIA</td>\n",
       "      <td>NIRO</td>\n",
       "      <td>Plug-in Hybrid Electric Vehicle (PHEV)</td>\n",
       "      <td>Not eligible due to low battery range</td>\n",
       "      <td>26</td>\n",
       "      <td>0</td>\n",
       "      <td>32</td>\n",
       "      <td>203182584</td>\n",
       "      <td>POINT (-122.29245 47.82557)</td>\n",
       "      <td>PUGET SOUND ENERGY INC</td>\n",
       "      <td>53061051402</td>\n",
       "      <td>POINT (-122.29245 47.82557)</td>\n",
       "    </tr>\n",
       "    <tr>\n",
       "      <th>3</th>\n",
       "      <td>5UXKT0C37H</td>\n",
       "      <td>King</td>\n",
       "      <td>Auburn</td>\n",
       "      <td>WA</td>\n",
       "      <td>98001</td>\n",
       "      <td>2017</td>\n",
       "      <td>BMW</td>\n",
       "      <td>X5</td>\n",
       "      <td>Plug-in Hybrid Electric Vehicle (PHEV)</td>\n",
       "      <td>Not eligible due to low battery range</td>\n",
       "      <td>14</td>\n",
       "      <td>0</td>\n",
       "      <td>30</td>\n",
       "      <td>349010287</td>\n",
       "      <td>POINT (-122.23035 47.3074)</td>\n",
       "      <td>PUGET SOUND ENERGY INC||CITY OF TACOMA - (WA)</td>\n",
       "      <td>53033029806</td>\n",
       "      <td>POINT (-122.23035 47.30740)</td>\n",
       "    </tr>\n",
       "  </tbody>\n",
       "</table>\n",
       "</div>"
      ],
      "text/plain": [
       "   VIN (1-10)     County          City State Postal Code Model Year   Make  \\\n",
       "0  5YJ3E1EB5K     Yakima        Yakima    WA       98901       2019  TESLA   \n",
       "1  1C4RJXU67R     Kitsap  Port Orchard    WA       98367       2024   JEEP   \n",
       "2  KNDCD3LD0N  Snohomish      Lynnwood    WA       98036       2022    KIA   \n",
       "3  5UXKT0C37H       King        Auburn    WA       98001       2017    BMW   \n",
       "\n",
       "      Model                   Electric Vehicle Type  \\\n",
       "0   MODEL 3          Battery Electric Vehicle (BEV)   \n",
       "1  WRANGLER  Plug-in Hybrid Electric Vehicle (PHEV)   \n",
       "2      NIRO  Plug-in Hybrid Electric Vehicle (PHEV)   \n",
       "3        X5  Plug-in Hybrid Electric Vehicle (PHEV)   \n",
       "\n",
       "  Clean Alternative Fuel Vehicle (CAFV) Eligibility Electric Range Base MSRP  \\\n",
       "0           Clean Alternative Fuel Vehicle Eligible            220         0   \n",
       "1             Not eligible due to low battery range             21         0   \n",
       "2             Not eligible due to low battery range             26         0   \n",
       "3             Not eligible due to low battery range             14         0   \n",
       "\n",
       "  Legislative District DOL Vehicle ID             Vehicle Location  \\\n",
       "0                   15      347724772  POINT (-120.50729 46.60464)   \n",
       "1                   35      272165288  POINT (-122.68471 47.50524)   \n",
       "2                   32      203182584  POINT (-122.29245 47.82557)   \n",
       "3                   30      349010287   POINT (-122.23035 47.3074)   \n",
       "\n",
       "                                Electric Utility 2020 Census Tract  \\\n",
       "0                                     PACIFICORP       53077001502   \n",
       "1                         PUGET SOUND ENERGY INC       53035092901   \n",
       "2                         PUGET SOUND ENERGY INC       53061051402   \n",
       "3  PUGET SOUND ENERGY INC||CITY OF TACOMA - (WA)       53033029806   \n",
       "\n",
       "                      geometry  \n",
       "0  POINT (-120.50729 46.60464)  \n",
       "1  POINT (-122.68471 47.50524)  \n",
       "2  POINT (-122.29245 47.82557)  \n",
       "3  POINT (-122.23035 47.30740)  "
      ]
     },
     "execution_count": 11,
     "metadata": {},
     "output_type": "execute_result"
    }
   ],
   "source": [
    "ev_pop_df.head(4)"
   ]
  },
  {
   "cell_type": "code",
   "execution_count": null,
   "id": "059111b8-ffb1-4c91-b13b-28bd0e135d33",
   "metadata": {},
   "outputs": [],
   "source": []
  },
  {
   "cell_type": "code",
   "execution_count": null,
   "id": "f6f9c464-060e-44b2-b500-59038078347a",
   "metadata": {},
   "outputs": [],
   "source": [
    "ev_pop_df.info()"
   ]
  },
  {
   "cell_type": "code",
   "execution_count": 14,
   "id": "1c5451d9-5a64-4421-9f32-04b0fa022eea",
   "metadata": {},
   "outputs": [
    {
     "data": {
      "text/plain": [
       "geopandas.geodataframe.GeoDataFrame"
      ]
     },
     "execution_count": 14,
     "metadata": {},
     "output_type": "execute_result"
    }
   ],
   "source": [
    "type(ev_pop_df)"
   ]
  },
  {
   "cell_type": "code",
   "execution_count": 15,
   "id": "eb77dc64-37c4-420c-a0ed-945667140b4e",
   "metadata": {},
   "outputs": [
    {
     "data": {
      "image/png": "[encoded data removed]",
      "text/plain": [
       "<Figure size 1000x600 with 1 Axes>"
      ]
     },
     "metadata": {},
     "output_type": "display_data"
    }
   ],
   "source": [
    "# Assume gdf is your GeoDataFrame\n",
    "gdf.plot(markersize=5, color=\"blue\", figsize=(10,6))\n",
    "plt.title(\"EV Vehicle Locations\")\n",
    "plt.show()"
   ]
  },
  {
   "cell_type": "code",
   "execution_count": null,
   "id": "17bc98f0-5d5a-40df-8e29-16108cad5737",
   "metadata": {},
   "outputs": [],
   "source": [
    "# Load a world basemap (or US states)\n",
    "world = gpd.read_file(gpd.datasets.get_path(\"naturalearth_lowres\"))\n",
    "\n",
    "# Filter to USA\n",
    "usa = world[world[\"name\"] == \"United States of America\"]\n",
    "\n",
    "# Plot\n",
    "fig, ax = plt.subplots(figsize=(10,10))\n",
    "usa.plot(ax=ax, color=\"lightgray\", edgecolor=\"black\")\n",
    "gdf.plot(ax=ax, markersize=5, color=\"red\", alpha=0.6)\n",
    "plt.title(\"EV Vehicle Locations Across USA\")\n",
    "plt.show()"
   ]
  },
  {
   "cell_type": "code",
   "execution_count": null,
   "id": "1e006d56-1e55-4903-adf3-6c8165e09852",
   "metadata": {},
   "outputs": [],
   "source": [
    "#DATA SET FOR US STATES\n",
    "#https://catalog.data.gov/dataset/tiger-line-shapefile-current-nation-u-s-state-and-equivalent-entities"
   ]
  },
  {
   "cell_type": "code",
   "execution_count": 17,
   "id": "e1de985f-9a35-49fa-af5e-419758015d08",
   "metadata": {},
   "outputs": [],
   "source": [
    "US_states = gpd.read_file(\"C:/Users/nainy/Documents/nss_dda16/python/geospatial-nainyb/data/tl_2024_us_state/tl_2024_us_state.shp\")"
   ]
  },
  {
   "cell_type": "code",
   "execution_count": 18,
   "id": "0a385968-4c56-4451-a318-b2cf0b4231e3",
   "metadata": {},
   "outputs": [
    {
     "data": {
      "text/plain": [
       "<Geographic 2D CRS: EPSG:4326>\n",
       "Name: WGS 84\n",
       "Axis Info [ellipsoidal]:\n",
       "- Lat[north]: Geodetic latitude (degree)\n",
       "- Lon[east]: Geodetic longitude (degree)\n",
       "Area of Use:\n",
       "- name: World.\n",
       "- bounds: (-180.0, -90.0, 180.0, 90.0)\n",
       "Datum: World Geodetic System 1984 ensemble\n",
       "- Ellipsoid: WGS 84\n",
       "- Prime Meridian: Greenwich"
      ]
     },
     "execution_count": 18,
     "metadata": {},
     "output_type": "execute_result"
    }
   ],
   "source": [
    "gdf.crs"
   ]
  },
  {
   "cell_type": "code",
   "execution_count": 19,
   "id": "50fc7538-e30e-4a4f-9e2b-baa43957b0e1",
   "metadata": {},
   "outputs": [
    {
     "data": {
      "text/plain": [
       "<Geographic 2D CRS: EPSG:4269>\n",
       "Name: NAD83\n",
       "Axis Info [ellipsoidal]:\n",
       "- Lat[north]: Geodetic latitude (degree)\n",
       "- Lon[east]: Geodetic longitude (degree)\n",
       "Area of Use:\n",
       "- name: North America - onshore and offshore: Canada - Alberta; British Columbia; Manitoba; New Brunswick; Newfoundland and Labrador; Northwest Territories; Nova Scotia; Nunavut; Ontario; Prince Edward Island; Quebec; Saskatchewan; Yukon. Puerto Rico. United States (USA) - Alabama; Alaska; Arizona; Arkansas; California; Colorado; Connecticut; Delaware; Florida; Georgia; Hawaii; Idaho; Illinois; Indiana; Iowa; Kansas; Kentucky; Louisiana; Maine; Maryland; Massachusetts; Michigan; Minnesota; Mississippi; Missouri; Montana; Nebraska; Nevada; New Hampshire; New Jersey; New Mexico; New York; North Carolina; North Dakota; Ohio; Oklahoma; Oregon; Pennsylvania; Rhode Island; South Carolina; South Dakota; Tennessee; Texas; Utah; Vermont; Virginia; Washington; West Virginia; Wisconsin; Wyoming. US Virgin Islands. British Virgin Islands.\n",
       "- bounds: (167.65, 14.92, -40.73, 86.45)\n",
       "Datum: North American Datum 1983\n",
       "- Ellipsoid: GRS 1980\n",
       "- Prime Meridian: Greenwich"
      ]
     },
     "execution_count": 19,
     "metadata": {},
     "output_type": "execute_result"
    }
   ],
   "source": [
    "US_states.crs"
   ]
  },
  {
   "cell_type": "code",
   "execution_count": 43,
   "id": "cdfd5aa0-1870-4902-bce7-2ab94d14d362",
   "metadata": {},
   "outputs": [],
   "source": [
    "merged = gpd.sjoin(US_states,gdf,how=\"left\", predicate=\"contains\")\n"
   ]
  },
  {
   "cell_type": "code",
   "execution_count": 44,
   "id": "0eb5e254-ee5d-4653-ac6e-96baccca4bf1",
   "metadata": {},
   "outputs": [
    {
     "data": {
      "text/plain": [
       "(257629, 34)"
      ]
     },
     "execution_count": 44,
     "metadata": {},
     "output_type": "execute_result"
    }
   ],
   "source": [
    "merged.shape"
   ]
  },
  {
   "cell_type": "code",
   "execution_count": 45,
   "id": "5e0fd60b-d4a7-4a00-8cf6-5bbffb4c0861",
   "metadata": {},
   "outputs": [],
   "source": [
    "US_states.crs =gdf.crs"
   ]
  },
  {
   "cell_type": "code",
   "execution_count": 46,
   "id": "21bc6a1e-0a09-44aa-bfa3-f474ef3ed232",
   "metadata": {},
   "outputs": [
    {
     "data": {
      "text/plain": [
       "<Geographic 2D CRS: EPSG:4326>\n",
       "Name: WGS 84\n",
       "Axis Info [ellipsoidal]:\n",
       "- Lat[north]: Geodetic latitude (degree)\n",
       "- Lon[east]: Geodetic longitude (degree)\n",
       "Area of Use:\n",
       "- name: World.\n",
       "- bounds: (-180.0, -90.0, 180.0, 90.0)\n",
       "Datum: World Geodetic System 1984 ensemble\n",
       "- Ellipsoid: WGS 84\n",
       "- Prime Meridian: Greenwich"
      ]
     },
     "execution_count": 46,
     "metadata": {},
     "output_type": "execute_result"
    }
   ],
   "source": [
    "gdf.crs"
   ]
  },
  {
   "cell_type": "code",
   "execution_count": 47,
   "id": "cc3fa8fd-0f07-4b88-8ee9-b6145dffa676",
   "metadata": {},
   "outputs": [
    {
     "data": {
      "text/plain": [
       "<Geographic 2D CRS: EPSG:4326>\n",
       "Name: WGS 84\n",
       "Axis Info [ellipsoidal]:\n",
       "- Lat[north]: Geodetic latitude (degree)\n",
       "- Lon[east]: Geodetic longitude (degree)\n",
       "Area of Use:\n",
       "- name: World.\n",
       "- bounds: (-180.0, -90.0, 180.0, 90.0)\n",
       "Datum: World Geodetic System 1984 ensemble\n",
       "- Ellipsoid: WGS 84\n",
       "- Prime Meridian: Greenwich"
      ]
     },
     "execution_count": 47,
     "metadata": {},
     "output_type": "execute_result"
    }
   ],
   "source": [
    "US_states.crs"
   ]
  },
  {
   "cell_type": "code",
   "execution_count": null,
   "id": "cbacf98b-33c6-46bb-9a9e-dc2d2263cea8",
   "metadata": {},
   "outputs": [],
   "source": [
    "#US_states.plot()\n",
    "fig, ax = plt.subplots(figsize=(16,16))\n",
    "merged.plot(ax = ax);\n",
    "ax.axis('off');"
   ]
  },
  {
   "cell_type": "code",
   "execution_count": null,
   "id": "10881445-e765-47c5-9890-2e986c392772",
   "metadata": {},
   "outputs": [],
   "source": [
    "print(merged.loc[0, 'geometry'])"
   ]
  },
  {
   "cell_type": "code",
   "execution_count": null,
   "id": "291a4112-f0cb-4fc0-8efc-a3469d17c755",
   "metadata": {},
   "outputs": [],
   "source": [
    "merged.plot()"
   ]
  },
  {
   "cell_type": "code",
   "execution_count": null,
   "id": "7b952537-fbe3-4ed6-ac68-2e99fc64a45d",
   "metadata": {},
   "outputs": [],
   "source": []
  },
  {
   "cell_type": "code",
   "execution_count": null,
   "id": "9826cda6-4e91-4079-a92d-32f20680a867",
   "metadata": {},
   "outputs": [],
   "source": [
    "fig, ax = plt.subplots(figsize=(16,4))\n",
    "merged.plot(column = 'VIN (1-10)', \n",
    "              ax = ax)\n",
    "ax.axis('off');"
   ]
  },
  {
   "cell_type": "code",
   "execution_count": null,
   "id": "a8e405e7-21f8-4a04-a641-ef5c75468cfa",
   "metadata": {},
   "outputs": [],
   "source": [
    "merged.info()"
   ]
  },
  {
   "cell_type": "code",
   "execution_count": null,
   "id": "7a8140b7-784b-44e9-8e08-2ed201c1ac25",
   "metadata": {},
   "outputs": [],
   "source": [
    "zipcode_us_states = gpd.read_file(\"C:/Users/nainy/Documents/nss_dda16/python/projects/EV_Capstone_project_nainy/cb_2019_us_zcta510_500k/cb_2019_us_zcta510_500k.shp\")"
   ]
  },
  {
   "cell_type": "code",
   "execution_count": null,
   "id": "497d34b4-3303-4100-9a50-2de502358746",
   "metadata": {},
   "outputs": [],
   "source": [
    "ev_pop_df.crs= zipcode_us_states.crs"
   ]
  },
  {
   "cell_type": "code",
   "execution_count": null,
   "id": "102f83e7-917f-4173-863d-b064b956d211",
   "metadata": {},
   "outputs": [],
   "source": [
    "merged_2 = gpd.sjoin(zipcode_us_states, ev_pop_df,  how=\"left\", predicate=\"contains\")"
   ]
  },
  {
   "cell_type": "code",
   "execution_count": null,
   "id": "8040cc22-3e5e-4f99-8e53-95afd47e8e28",
   "metadata": {},
   "outputs": [],
   "source": [
    "merged_2.head(3)"
   ]
  },
  {
   "cell_type": "code",
   "execution_count": null,
   "id": "21d44cc5-4742-474f-97a4-2431a8a3ea04",
   "metadata": {},
   "outputs": [],
   "source": [
    "merged_2.plot()\n"
   ]
  },
  {
   "cell_type": "code",
   "execution_count": null,
   "id": "da7bcf0e-b0d0-4ed2-a5ce-26357a34f04f",
   "metadata": {},
   "outputs": [],
   "source": []
  },
  {
   "cell_type": "code",
   "execution_count": null,
   "id": "3c866d64-0ef5-4470-ba20-6ddb41e665bc",
   "metadata": {},
   "outputs": [],
   "source": [
    "zipcode_us_states.head(3)"
   ]
  },
  {
   "cell_type": "code",
   "execution_count": null,
   "id": "85933e8d-377a-467f-9c06-9699ff9cc8f6",
   "metadata": {},
   "outputs": [],
   "source": [
    "zipcode_us_states.info()"
   ]
  },
  {
   "cell_type": "code",
   "execution_count": null,
   "id": "651f153b-ad80-4309-a34f-b47ac0de17dc",
   "metadata": {},
   "outputs": [],
   "source": [
    "zipcode_us_states.loc[0, 'geometry']"
   ]
  },
  {
   "cell_type": "code",
   "execution_count": null,
   "id": "9e8ac1d1-1d28-4b2e-a72f-1ca669e5aba5",
   "metadata": {},
   "outputs": [],
   "source": [
    "type(zipcode_us_states)"
   ]
  },
  {
   "cell_type": "code",
   "execution_count": null,
   "id": "dbe535ff-239f-4e6b-87a0-1ed27272ca18",
   "metadata": {
    "scrolled": true
   },
   "outputs": [],
   "source": [
    "leg_kwds = {'title': 'Zipcodes', 'loc': 'upper left', \n",
    "            'bbox_to_anchor': (1, 1.03), 'ncol': 2}\n",
    "\n",
    "zipcode_us_states.plot(column = 'ZCTA5CE10', figsize=(10, 10),\n",
    "              edgecolor = 'black',\n",
    "              legend = True, legend_kwds = leg_kwds, \n",
    "              cmap = 'Set2')\n",
    "plt.show()"
   ]
  },
  {
   "cell_type": "code",
   "execution_count": null,
   "id": "2ff24e55-e393-4b26-ba1f-b2b844e50fde",
   "metadata": {},
   "outputs": [],
   "source": [
    "merged_2 = gpd.sjoin(gdf, zipcode_us_states, how=\"left\", predicate=\"intersects\")"
   ]
  },
  {
   "cell_type": "code",
   "execution_count": null,
   "id": "4e4f00d1-8fda-4884-9960-fb2ba3d98732",
   "metadata": {},
   "outputs": [],
   "source": [
    "type(merged_2)"
   ]
  },
  {
   "cell_type": "code",
   "execution_count": null,
   "id": "329b0c4a-699f-4f63-ac58-02168fdb2b33",
   "metadata": {},
   "outputs": [],
   "source": [
    "len(merged_2)"
   ]
  },
  {
   "cell_type": "code",
   "execution_count": null,
   "id": "bde6ecec-eb1c-4b5f-848a-aa16e793f561",
   "metadata": {},
   "outputs": [],
   "source": [
    "merged_2.head(3)"
   ]
  },
  {
   "cell_type": "code",
   "execution_count": null,
   "id": "89433018-2fdb-4812-be7a-b73379ea0952",
   "metadata": {},
   "outputs": [],
   "source": [
    "merged_2['Postal Code'].value_counts().sort_values(ascending = False)"
   ]
  },
  {
   "cell_type": "code",
   "execution_count": null,
   "id": "281f58b9-6d1c-49a7-9fa8-720ea24cd116",
   "metadata": {},
   "outputs": [],
   "source": [
    "Highest= merged_2.loc[merged_2['Postal Code']== '98052'    ]"
   ]
  },
  {
   "cell_type": "code",
   "execution_count": null,
   "id": "9d71f597-6132-4258-8e0a-7e77874020a2",
   "metadata": {},
   "outputs": [],
   "source": [
    "Highest.shape"
   ]
  },
  {
   "cell_type": "code",
   "execution_count": null,
   "id": "ea395934-0626-4a3b-91c2-55505117731e",
   "metadata": {},
   "outputs": [],
   "source": [
    "type(Highest)"
   ]
  },
  {
   "cell_type": "markdown",
   "id": "97a03af7-9623-48bc-9aad-15c2e00e7a4e",
   "metadata": {},
   "source": [
    "ax = Highest.plot(figsize = (8, 10), color = 'lightgreen', edgecolor = 'black')\n",
    "Highest.plot( ax = ax, column = 'geometry', legend = True,);\n",
    "plt.show();"
   ]
  },
  {
   "cell_type": "code",
   "execution_count": null,
   "id": "cdcc7ca5-fc4a-4e5e-a9d0-0642debeff7c",
   "metadata": {},
   "outputs": [],
   "source": []
  },
  {
   "cell_type": "code",
   "execution_count": null,
   "id": "035d87b2-fd1a-4708-8364-556c1b463403",
   "metadata": {},
   "outputs": [],
   "source": [
    "Short_Term_Rental_Permits_geo_join = gpd.sjoin(Short_Term_Rental_Permits_geo, zipcodes, predicate = 'within')"
   ]
  },
  {
   "cell_type": "code",
   "execution_count": null,
   "id": "fa02a277-eeab-4f2f-9af1-62272a457cc4",
   "metadata": {},
   "outputs": [],
   "source": []
  },
  {
   "cell_type": "code",
   "execution_count": null,
   "id": "ced4a028-afca-4322-84ba-6d21f3beb4c5",
   "metadata": {},
   "outputs": [],
   "source": []
  },
  {
   "cell_type": "code",
   "execution_count": null,
   "id": "a44e451c-7bd7-42fd-a5ca-f2b41cc7d641",
   "metadata": {},
   "outputs": [],
   "source": []
  },
  {
   "cell_type": "code",
   "execution_count": null,
   "id": "524a7564-e6cd-48ad-bb25-68da913997d2",
   "metadata": {},
   "outputs": [],
   "source": []
  },
  {
   "cell_type": "code",
   "execution_count": null,
   "id": "a053936f-1fcc-47dd-94c8-608ffed02729",
   "metadata": {},
   "outputs": [],
   "source": [
    "# reverse the order when constructing the array for folium location\n",
    "area_center = [geometry.y, geometry.x]\n",
    "\n",
    "# check the order of area_center, the location for our folium map\n",
    "print(area_center)"
   ]
  },
  {
   "cell_type": "code",
   "execution_count": null,
   "id": "c9ddbdbf-6601-42d6-ab20-b606eb7d9617",
   "metadata": {},
   "outputs": [],
   "source": []
  },
  {
   "cell_type": "code",
   "execution_count": null,
   "id": "7a3f1227-4896-4b4f-8da7-e24e0863f0ff",
   "metadata": {},
   "outputs": [],
   "source": []
  },
  {
   "cell_type": "code",
   "execution_count": null,
   "id": "0d45deb7-2d3b-44b2-9850-93f21540ad94",
   "metadata": {},
   "outputs": [],
   "source": []
  },
  {
   "cell_type": "code",
   "execution_count": null,
   "id": "4b657d49-6525-4d12-8a89-ba35d86548e4",
   "metadata": {},
   "outputs": [],
   "source": []
  },
  {
   "cell_type": "code",
   "execution_count": null,
   "id": "757dd31c-99aa-42c4-ab6b-653f6882ea18",
   "metadata": {},
   "outputs": [],
   "source": []
  },
  {
   "cell_type": "code",
   "execution_count": null,
   "id": "d7596f3d-d70b-4dde-9919-022bc00ef1fd",
   "metadata": {},
   "outputs": [],
   "source": []
  },
  {
   "cell_type": "code",
   "execution_count": null,
   "id": "9f8ae25b-2490-43c3-a296-5dddf2f3e516",
   "metadata": {},
   "outputs": [],
   "source": []
  },
  {
   "cell_type": "code",
   "execution_count": null,
   "id": "3077ba83-1e2d-4526-a597-22539ff06509",
   "metadata": {},
   "outputs": [],
   "source": []
  },
  {
   "cell_type": "code",
   "execution_count": null,
   "id": "9de831f1-5145-4a92-b8ca-56c8c0fe4a3c",
   "metadata": {},
   "outputs": [],
   "source": []
  },
  {
   "cell_type": "code",
   "execution_count": null,
   "id": "be3175be-3cac-4b4e-8b04-ca928e0b7058",
   "metadata": {},
   "outputs": [],
   "source": []
  },
  {
   "cell_type": "code",
   "execution_count": null,
   "id": "2ae650c5-1f86-4b0c-b916-a2767288eb66",
   "metadata": {},
   "outputs": [],
   "source": []
  },
  {
   "cell_type": "code",
   "execution_count": null,
   "id": "0ba77aaa-4dae-4014-b5bd-ba4fafe075dd",
   "metadata": {},
   "outputs": [],
   "source": []
  },
  {
   "cell_type": "code",
   "execution_count": null,
   "id": "b5cf1115-ac44-4854-bf55-adf4cf4681ee",
   "metadata": {},
   "outputs": [],
   "source": []
  },
  {
   "cell_type": "code",
   "execution_count": null,
   "id": "557c4b3c-3884-42c6-8685-ffaf7be9b93d",
   "metadata": {},
   "outputs": [],
   "source": []
  },
  {
   "cell_type": "code",
   "execution_count": null,
   "id": "9fd95b80-583b-4c40-9e91-c23b590e7f5f",
   "metadata": {},
   "outputs": [],
   "source": [
    "import folium\n",
    "\n",
    "# Calculate average lat/lon\n",
    "avg_lat = merged['geometry'].apply(lambda p: p.y).mean()\n",
    "avg_lon = merged['geometry'].apply(lambda p: p.x).mean()\n",
    "\n",
    "m = folium.Map(location=[avg_lat, avg_lon], zoom_start=6)\n"
   ]
  },
  {
   "cell_type": "code",
   "execution_count": null,
   "id": "de7cc3d5-f4a2-4c12-80e9-190d9f7e7bc8",
   "metadata": {},
   "outputs": [],
   "source": [
    "for _, row in merged.iterrows():\n",
    "    popup = folium.Popup(f\"\"\"\n",
    "        <b>VIN:</b> {row['VIN (1-10)']}<br>\n",
    "        <b>Make:</b> {row['Make']}<br>\n",
    "        <b>Model:</b> {row['Model']}<br>\n",
    "        <b>Year:</b> {row['Model Year']}<br>\n",
    "        <b>Type:</b> {row['Electric Vehicle Type']}<br>\n",
    "        <b>Range:</b> {row['Electric Range']} miles<br>\n",
    "        <b>MSRP:</b> ${row['Base MSRP']}\n",
    "    \"\"\", max_width=300)\n",
    "\n",
    "    folium.Marker(\n",
    "        location=[row['geometry'].y, row['geometry'].x],\n",
    "        popup=popup,\n",
    "        icon=folium.Icon(color='green', icon='car', prefix='fa')\n",
    "    ).add_to(m)\n"
   ]
  },
  {
   "cell_type": "code",
   "execution_count": null,
   "id": "3601c665-afb8-4195-93bb-afb3194ac526",
   "metadata": {},
   "outputs": [],
   "source": [
    "m.save(\"ev_map.html\")\n"
   ]
  },
  {
   "cell_type": "code",
   "execution_count": null,
   "id": "e9019d98-ea04-4aef-a80a-df30785e4b13",
   "metadata": {},
   "outputs": [],
   "source": [
    "import webbrowser\n",
    "webbrowser.open(\"ev_map.html\")\n"
   ]
  },
  {
   "cell_type": "code",
   "execution_count": null,
   "id": "89cfc701-83c6-4d84-9a35-c35602741735",
   "metadata": {},
   "outputs": [],
   "source": []
  },
  {
   "cell_type": "code",
   "execution_count": null,
   "id": "cf26e289-fafe-48fe-8cd5-572cd6dab6e8",
   "metadata": {},
   "outputs": [],
   "source": [
    "# Preview the data\n",
    "print(states.head())"
   ]
  },
  {
   "cell_type": "code",
   "execution_count": null,
   "id": "ad5f3369-c0f1-4ab1-aa7a-d003f62272af",
   "metadata": {},
   "outputs": [],
   "source": [
    "\n",
    "\n",
    "# Plot it\n",
    "states.plot(figsize=(10, 10), color=\"lightgrey\", edgecolor=\"black\")\n",
    "plt.title(\"U.S. State Boundaries\")\n",
    "plt.axis(\"off\")\n",
    "plt.show()"
   ]
  },
  {
   "cell_type": "code",
   "execution_count": null,
   "id": "fa51e9fc-bafe-4e72-a457-92e761461440",
   "metadata": {},
   "outputs": [],
   "source": []
  }
 ],
 "metadata": {
  "kernelspec": {
   "display_name": "Python 3 (ipykernel)",
   "language": "python",
   "name": "python3"
  },
  "language_info": {
   "codemirror_mode": {
    "name": "ipython",
    "version": 3
   },
   "file_extension": ".py",
   "mimetype": "text/x-python",
   "name": "python",
   "nbconvert_exporter": "python",
   "pygments_lexer": "ipython3",
   "version": "3.10.18"
  }
 },
 "nbformat": 4,
 "nbformat_minor": 5
}
